{
 "cells": [
  {
   "cell_type": "markdown",
   "metadata": {
    "colab_type": "text",
    "id": "CazISR8X_HUG"
   },
   "source": [
    "# Multiple Linear Regression"
   ]
  },
  {
   "cell_type": "markdown",
   "metadata": {
    "colab_type": "text",
    "id": "pOyqYHTk_Q57"
   },
   "source": [
    "## Importing the libraries"
   ]
  },
  {
   "cell_type": "code",
   "execution_count": 1,
   "metadata": {
    "colab": {},
    "colab_type": "code",
    "id": "T_YHJjnD_Tja"
   },
   "outputs": [],
   "source": [
    "import cudf\n",
    "import cupy as cp\n",
    "from cuml.cluster import KMeans\n",
    "from cuml.preprocessing.model_selection import train_test_split\n",
    "from cuml.linear_model import LinearRegression\n",
    "from cuml.metrics.regression import r2_score\n",
    "\n",
    "from sklearn.metrics import mean_absolute_error\n",
    "from sklearn.metrics import mean_squared_error\n",
    "\n",
    "import numpy as np\n",
    "import numpy.ma as ma\n",
    "from numpy import *\n",
    "\n",
    "import pandas as pd\n",
    "\n",
    "import matplotlib.pyplot as plt\n",
    "\n",
    "import sys\n",
    "\n",
    "%reload_ext memory_profiler"
   ]
  },
  {
   "cell_type": "markdown",
   "metadata": {},
   "source": [
    "### Checking Conda Environment"
   ]
  },
  {
   "cell_type": "code",
   "execution_count": 2,
   "metadata": {},
   "outputs": [
    {
     "name": "stdout",
     "output_type": "stream",
     "text": [
      "/home/eos/miniconda2/envs/rapids.ai-cuml/bin/python3\n"
     ]
    }
   ],
   "source": [
    "print(sys.executable)"
   ]
  },
  {
   "cell_type": "code",
   "execution_count": 3,
   "metadata": {},
   "outputs": [
    {
     "name": "stdout",
     "output_type": "stream",
     "text": [
      "3.8.5 | packaged by conda-forge | (default, Sep 16 2020, 18:01:20) \n",
      "[GCC 7.5.0]\n"
     ]
    }
   ],
   "source": [
    "print(sys.version)"
   ]
  },
  {
   "cell_type": "markdown",
   "metadata": {},
   "source": [
    "## Testing rapids/cuml"
   ]
  },
  {
   "cell_type": "code",
   "execution_count": 4,
   "metadata": {},
   "outputs": [
    {
     "name": "stdout",
     "output_type": "stream",
     "text": [
      "0    1.0\n",
      "1    1.0\n",
      "dtype: float64\n"
     ]
    }
   ],
   "source": [
    "def np2cudf(df):\n",
    "    '''converts numpy dataframe to cuda dataframe'''\n",
    "    df = pd.DataFrame({'fea%d'%i:df[:,i] for i in range(df.shape[1])})\n",
    "    pdf = cudf.DataFrame()\n",
    "    \n",
    "    for c,column in enumerate(df):\n",
    "        pdf[str(c)] = df[column]\n",
    "        return pdf\n",
    "\n",
    "kmeans_float = KMeans(n_clusters=2).fit(np2cudf(np.array([[1.,1.], [1.,4.], [1.,0.]])))\n",
    "print(kmeans_float.cluster_centers_)"
   ]
  },
  {
   "cell_type": "markdown",
   "metadata": {
    "colab_type": "text",
    "id": "vgC61-ah_WIz"
   },
   "source": [
    "## Importing the dataset"
   ]
  },
  {
   "cell_type": "code",
   "execution_count": 5,
   "metadata": {},
   "outputs": [
    {
     "name": "stdout",
     "output_type": "stream",
     "text": [
      "<class 'cudf.core.dataframe.DataFrame'>\n",
      "RangeIndex: 983991 entries, 0 to 983990\n",
      "Data columns (total 83 columns):\n",
      " #   Column                                            Non-Null Count   Dtype\n",
      "---  ------                                            --------------   -----\n",
      " 0   Local Job Id                                      983991 non-null  int64\n",
      " 1   System Username (Deidentified)                    983991 non-null  object\n",
      " 2   Shared                                            983991 non-null  int64\n",
      " 3   Cores                                             983991 non-null  int64\n",
      " 4   Nodes                                             983991 non-null  int64\n",
      " 5   Total Cores Available                             983991 non-null  int64\n",
      " 6   Cpu Time                                          983991 non-null  int64\n",
      " 7   Node Time                                         983991 non-null  int64\n",
      " 8   Requested Nodes                                   983991 non-null  int64\n",
      " 9   Requested Wall Time                               983985 non-null  float64\n",
      " 10  Queue                                             983991 non-null  object\n",
      " 11  Wait Time                                         983991 non-null  int64\n",
      " 12  Wall Time                                         983991 non-null  int64\n",
      " 13  Eligible Time (Timestamp)                         243662 non-null  float64\n",
      " 14  End Time (Timestamp)                              983991 non-null  int64\n",
      " 15  Start Time (Timestamp)                            983991 non-null  int64\n",
      " 16  Submit Time (Timestamp)                           983991 non-null  int64\n",
      " 17  Organization                                      983991 non-null  object\n",
      " 18  Resource                                          983991 non-null  object\n",
      " 19  Field of Science                                  983991 non-null  object\n",
      " 20  PI                                                983991 non-null  object\n",
      " 21  User                                              983991 non-null  object\n",
      " 22  User Institution                                  983991 non-null  object\n",
      " 23  Timezone                                          983991 non-null  object\n",
      " 24  Gpu0 Nv Utilization                               2103 non-null    float64\n",
      " 25  Gpu0 Nv Mem Used                                  2103 non-null    float64\n",
      " 26  CPU Idle                                          564568 non-null  float64\n",
      " 27  CPU System                                        565961 non-null  float64\n",
      " 28  CPU User                                          565961 non-null  float64\n",
      " 29  FLOPS                                             0 non-null       int8\n",
      " 30  CPI (ref)                                         166571 non-null  float64\n",
      " 31  CPI (ref) cov                                     166571 non-null  float64\n",
      " 32  CPLD (ref)                                        51987 non-null   float64\n",
      " 33  CPLD (ref) cov                                    51987 non-null   float64\n",
      " 34  CPU User cov                                      565961 non-null  float64\n",
      " 35  FLOPS cov                                         0 non-null       int8\n",
      " 36  Block device \"\"sda\"\" data read                    565591 non-null  float64\n",
      " 37  Block device \"\"sda\"\" data written                 565591 non-null  float64\n",
      " 38  Mount point \"\"home\"\" data read                    0 non-null       int8\n",
      " 39  Mount point \"\"home\"\" data written                 148847 non-null  float64\n",
      " 40  Mount point \"\"scratch\"\" data read                 0 non-null       int8\n",
      " 41  Mount point \"\"scratch\"\" data written              502874 non-null  float64\n",
      " 42  Mount point \"\"work\"\" data read                    0 non-null       int8\n",
      " 43  Mount point \"\"work\"\" data written                 148847 non-null  float64\n",
      " 44  Block device \"\"sda\"\" read operations              565591 non-null  float64\n",
      " 45  Block device \"\"sda\"\" write operations             565591 non-null  float64\n",
      " 46  Block device \"\"sda\"\" data read cov                565591 non-null  float64\n",
      " 47  Block device \"\"sda\"\" data written cov             565591 non-null  float64\n",
      " 48  Mount point \"\"home\"\" data written cov             148847 non-null  float64\n",
      " 49  Mount point \"\"scratch\"\" data written cov          509270 non-null  float64\n",
      " 50  Mount point \"\"work\"\" data written cov             148847 non-null  float64\n",
      " 51  Memory Transferred                                402360 non-null  float64\n",
      " 52  Total memory used                                 563329 non-null  float64\n",
      " 53  Memory Transferred cov                            402360 non-null  float64\n",
      " 54  Memory Used Cov                                   563329 non-null  float64\n",
      " 55  Peak Memory Usage Ratio                           528639 non-null  float64\n",
      " 56  Total memory used cov                             563329 non-null  float64\n",
      " 57  Ib Rx Bytes                                       6395 non-null    float64\n",
      " 58  Net Eth0 Rx                                       172932 non-null  float64\n",
      " 59  Net Eth0 Tx                                       172932 non-null  float64\n",
      " 60  Net Ib0 Rx                                        417121 non-null  float64\n",
      " 61  Net Ib0 Tx                                        417121 non-null  float64\n",
      " 62  Net Mic0 Rx                                       6395 non-null    float64\n",
      " 63  Net Mic0 Tx                                       6395 non-null    float64\n",
      " 64  Net Mic1 Rx                                       5228 non-null    float64\n",
      " 65  Net Mic1 Tx                                       5228 non-null    float64\n",
      " 66  Parallel filesystem lustre bytes received         155242 non-null  float64\n",
      " 67  Parallel filesystem lustre bytes transmitted      155242 non-null  float64\n",
      " 68  Parallel filesystem lustre messages received      155242 non-null  float64\n",
      " 69  Parallel filesystem lustre messages transmitted   155242 non-null  float64\n",
      " 70  Net Eth0 Rx Packets                               120509 non-null  float64\n",
      " 71  Net Eth0 Tx Packets                               120509 non-null  float64\n",
      " 72  Net Ib0 Rx Packets                                360423 non-null  float64\n",
      " 73  Net Ib0 Tx Packets                                360423 non-null  float64\n",
      " 74  Net Mic0 Rx Packets                               6395 non-null    float64\n",
      " 75  Net Mic0 Tx Packets                               6395 non-null    float64\n",
      " 76  Net Mic1 Rx Packets                               5228 non-null    float64\n",
      " 77  Net Mic1 Tx Packets                               5228 non-null    float64\n",
      " 78  Net Eth0 Rx Cov                                   172932 non-null  float64\n",
      " 79  Net Eth0 Tx Cov                                   172932 non-null  float64\n",
      " 80  Net Ib0 Rx Cov                                    417121 non-null  float64\n",
      " 81  Net Ib0 Tx Cov                                    417121 non-null  float64\n",
      " 82  Parallel filesystem lustre bytes transmitted cov  155242 non-null  float64\n",
      "dtypes: float64(56), int64(13), int8(5), object(9)\n",
      "memory usage: 755.0+ MB\n"
     ]
    }
   ],
   "source": [
    "cuda_df = cudf.read_csv('/home/eos/Downloads/aug.csv')\n",
    "cuda_df.info()"
   ]
  },
  {
   "cell_type": "code",
   "execution_count": 6,
   "metadata": {},
   "outputs": [
    {
     "data": {
      "text/html": [
       "<div>\n",
       "<style scoped>\n",
       "    .dataframe tbody tr th:only-of-type {\n",
       "        vertical-align: middle;\n",
       "    }\n",
       "\n",
       "    .dataframe tbody tr th {\n",
       "        vertical-align: top;\n",
       "    }\n",
       "\n",
       "    .dataframe thead th {\n",
       "        text-align: right;\n",
       "    }\n",
       "</style>\n",
       "<table border=\"1\" class=\"dataframe\">\n",
       "  <thead>\n",
       "    <tr style=\"text-align: right;\">\n",
       "      <th></th>\n",
       "      <th>Local Job Id</th>\n",
       "      <th>System Username (Deidentified)</th>\n",
       "      <th>Shared</th>\n",
       "      <th>Cores</th>\n",
       "      <th>Nodes</th>\n",
       "      <th>Total Cores Available</th>\n",
       "      <th>Cpu Time</th>\n",
       "      <th>Node Time</th>\n",
       "      <th>Requested Nodes</th>\n",
       "      <th>Requested Wall Time</th>\n",
       "      <th>...</th>\n",
       "      <th>Net Ib0 Tx Packets</th>\n",
       "      <th>Net Mic0 Rx Packets</th>\n",
       "      <th>Net Mic0 Tx Packets</th>\n",
       "      <th>Net Mic1 Rx Packets</th>\n",
       "      <th>Net Mic1 Tx Packets</th>\n",
       "      <th>Net Eth0 Rx Cov</th>\n",
       "      <th>Net Eth0 Tx Cov</th>\n",
       "      <th>Net Ib0 Rx Cov</th>\n",
       "      <th>Net Ib0 Tx Cov</th>\n",
       "      <th>Parallel filesystem lustre bytes transmitted cov</th>\n",
       "    </tr>\n",
       "  </thead>\n",
       "  <tbody>\n",
       "    <tr>\n",
       "      <th>983986</th>\n",
       "      <td>35595636</td>\n",
       "      <td>81fa471af542d305ac76c24e3979beb60b84371a</td>\n",
       "      <td>0</td>\n",
       "      <td>7</td>\n",
       "      <td>0</td>\n",
       "      <td>0</td>\n",
       "      <td>0</td>\n",
       "      <td>0</td>\n",
       "      <td>0</td>\n",
       "      <td>600.0</td>\n",
       "      <td>...</td>\n",
       "      <td>&lt;NA&gt;</td>\n",
       "      <td>&lt;NA&gt;</td>\n",
       "      <td>&lt;NA&gt;</td>\n",
       "      <td>&lt;NA&gt;</td>\n",
       "      <td>&lt;NA&gt;</td>\n",
       "      <td>&lt;NA&gt;</td>\n",
       "      <td>&lt;NA&gt;</td>\n",
       "      <td>&lt;NA&gt;</td>\n",
       "      <td>&lt;NA&gt;</td>\n",
       "      <td>&lt;NA&gt;</td>\n",
       "    </tr>\n",
       "    <tr>\n",
       "      <th>983987</th>\n",
       "      <td>35595671</td>\n",
       "      <td>81fa471af542d305ac76c24e3979beb60b84371a</td>\n",
       "      <td>0</td>\n",
       "      <td>7</td>\n",
       "      <td>1</td>\n",
       "      <td>0</td>\n",
       "      <td>4291</td>\n",
       "      <td>613</td>\n",
       "      <td>0</td>\n",
       "      <td>600.0</td>\n",
       "      <td>...</td>\n",
       "      <td>&lt;NA&gt;</td>\n",
       "      <td>&lt;NA&gt;</td>\n",
       "      <td>&lt;NA&gt;</td>\n",
       "      <td>&lt;NA&gt;</td>\n",
       "      <td>&lt;NA&gt;</td>\n",
       "      <td>&lt;NA&gt;</td>\n",
       "      <td>&lt;NA&gt;</td>\n",
       "      <td>&lt;NA&gt;</td>\n",
       "      <td>&lt;NA&gt;</td>\n",
       "      <td>&lt;NA&gt;</td>\n",
       "    </tr>\n",
       "    <tr>\n",
       "      <th>983988</th>\n",
       "      <td>35595809</td>\n",
       "      <td>16cbafae067d7af77ec005a16e6d8fc03860c08d</td>\n",
       "      <td>0</td>\n",
       "      <td>6</td>\n",
       "      <td>0</td>\n",
       "      <td>0</td>\n",
       "      <td>0</td>\n",
       "      <td>0</td>\n",
       "      <td>0</td>\n",
       "      <td>86400.0</td>\n",
       "      <td>...</td>\n",
       "      <td>&lt;NA&gt;</td>\n",
       "      <td>&lt;NA&gt;</td>\n",
       "      <td>&lt;NA&gt;</td>\n",
       "      <td>&lt;NA&gt;</td>\n",
       "      <td>&lt;NA&gt;</td>\n",
       "      <td>&lt;NA&gt;</td>\n",
       "      <td>&lt;NA&gt;</td>\n",
       "      <td>&lt;NA&gt;</td>\n",
       "      <td>&lt;NA&gt;</td>\n",
       "      <td>&lt;NA&gt;</td>\n",
       "    </tr>\n",
       "    <tr>\n",
       "      <th>983989</th>\n",
       "      <td>35595821</td>\n",
       "      <td>16cbafae067d7af77ec005a16e6d8fc03860c08d</td>\n",
       "      <td>0</td>\n",
       "      <td>6</td>\n",
       "      <td>1</td>\n",
       "      <td>0</td>\n",
       "      <td>24</td>\n",
       "      <td>4</td>\n",
       "      <td>0</td>\n",
       "      <td>86400.0</td>\n",
       "      <td>...</td>\n",
       "      <td>&lt;NA&gt;</td>\n",
       "      <td>&lt;NA&gt;</td>\n",
       "      <td>&lt;NA&gt;</td>\n",
       "      <td>&lt;NA&gt;</td>\n",
       "      <td>&lt;NA&gt;</td>\n",
       "      <td>&lt;NA&gt;</td>\n",
       "      <td>&lt;NA&gt;</td>\n",
       "      <td>&lt;NA&gt;</td>\n",
       "      <td>&lt;NA&gt;</td>\n",
       "      <td>&lt;NA&gt;</td>\n",
       "    </tr>\n",
       "    <tr>\n",
       "      <th>983990</th>\n",
       "      <td>35595829</td>\n",
       "      <td>81fa471af542d305ac76c24e3979beb60b84371a</td>\n",
       "      <td>0</td>\n",
       "      <td>7</td>\n",
       "      <td>1</td>\n",
       "      <td>0</td>\n",
       "      <td>4396</td>\n",
       "      <td>628</td>\n",
       "      <td>0</td>\n",
       "      <td>600.0</td>\n",
       "      <td>...</td>\n",
       "      <td>&lt;NA&gt;</td>\n",
       "      <td>&lt;NA&gt;</td>\n",
       "      <td>&lt;NA&gt;</td>\n",
       "      <td>&lt;NA&gt;</td>\n",
       "      <td>&lt;NA&gt;</td>\n",
       "      <td>&lt;NA&gt;</td>\n",
       "      <td>&lt;NA&gt;</td>\n",
       "      <td>&lt;NA&gt;</td>\n",
       "      <td>&lt;NA&gt;</td>\n",
       "      <td>&lt;NA&gt;</td>\n",
       "    </tr>\n",
       "  </tbody>\n",
       "</table>\n",
       "<p>5 rows × 83 columns</p>\n",
       "</div>"
      ],
      "text/plain": [
       "        Local Job Id            System Username (Deidentified)  Shared  Cores  \\\n",
       "983986      35595636  81fa471af542d305ac76c24e3979beb60b84371a       0      7   \n",
       "983987      35595671  81fa471af542d305ac76c24e3979beb60b84371a       0      7   \n",
       "983988      35595809  16cbafae067d7af77ec005a16e6d8fc03860c08d       0      6   \n",
       "983989      35595821  16cbafae067d7af77ec005a16e6d8fc03860c08d       0      6   \n",
       "983990      35595829  81fa471af542d305ac76c24e3979beb60b84371a       0      7   \n",
       "\n",
       "        Nodes  Total Cores Available  Cpu Time  Node Time  Requested Nodes  \\\n",
       "983986      0                      0         0          0                0   \n",
       "983987      1                      0      4291        613                0   \n",
       "983988      0                      0         0          0                0   \n",
       "983989      1                      0        24          4                0   \n",
       "983990      1                      0      4396        628                0   \n",
       "\n",
       "        Requested Wall Time  ... Net Ib0 Tx Packets Net Mic0 Rx Packets  \\\n",
       "983986                600.0  ...               <NA>                <NA>   \n",
       "983987                600.0  ...               <NA>                <NA>   \n",
       "983988              86400.0  ...               <NA>                <NA>   \n",
       "983989              86400.0  ...               <NA>                <NA>   \n",
       "983990                600.0  ...               <NA>                <NA>   \n",
       "\n",
       "       Net Mic0 Tx Packets Net Mic1 Rx Packets Net Mic1 Tx Packets  \\\n",
       "983986                <NA>                <NA>                <NA>   \n",
       "983987                <NA>                <NA>                <NA>   \n",
       "983988                <NA>                <NA>                <NA>   \n",
       "983989                <NA>                <NA>                <NA>   \n",
       "983990                <NA>                <NA>                <NA>   \n",
       "\n",
       "       Net Eth0 Rx Cov Net Eth0 Tx Cov Net Ib0 Rx Cov Net Ib0 Tx Cov  \\\n",
       "983986            <NA>            <NA>           <NA>           <NA>   \n",
       "983987            <NA>            <NA>           <NA>           <NA>   \n",
       "983988            <NA>            <NA>           <NA>           <NA>   \n",
       "983989            <NA>            <NA>           <NA>           <NA>   \n",
       "983990            <NA>            <NA>           <NA>           <NA>   \n",
       "\n",
       "       Parallel filesystem lustre bytes transmitted cov  \n",
       "983986                                             <NA>  \n",
       "983987                                             <NA>  \n",
       "983988                                             <NA>  \n",
       "983989                                             <NA>  \n",
       "983990                                             <NA>  \n",
       "\n",
       "[5 rows x 83 columns]"
      ]
     },
     "execution_count": 6,
     "metadata": {},
     "output_type": "execute_result"
    }
   ],
   "source": [
    "cuda_df.tail()"
   ]
  },
  {
   "cell_type": "code",
   "execution_count": 7,
   "metadata": {},
   "outputs": [
    {
     "name": "stdout",
     "output_type": "stream",
     "text": [
      "[[0.00000000e+00 6.40000000e+02 3.20000000e+01 ... 3.61330000e+05\n",
      "  9.10830000e+04 1.59624213e+09]\n",
      " [0.00000000e+00 6.40000000e+02 3.20000000e+01 ... 3.66774000e+05\n",
      "  8.49400000e+04 1.59624214e+09]\n",
      " [0.00000000e+00 6.40000000e+02 3.20000000e+01 ... 3.78775000e+05\n",
      "  7.29350000e+04 1.59624213e+09]\n",
      " ...\n",
      " [0.00000000e+00 6.00000000e+00 0.00000000e+00 ... 1.99000000e+02\n",
      "  0.00000000e+00 1.59857146e+09]\n",
      " [0.00000000e+00 6.00000000e+00 1.00000000e+00 ... 9.50000000e+01\n",
      "  4.00000000e+00 1.59857139e+09]\n",
      " [0.00000000e+00 7.00000000e+00 1.00000000e+00 ... 4.00000000e+00\n",
      "  6.28000000e+02 1.59857198e+09]]\n",
      "<class 'cupy.core.core.ndarray'>\n"
     ]
    }
   ],
   "source": [
    "X_cupy_ndarray = cuda_df.iloc[1:, [2,3,4,5,6,7,8,11,12,14]].values\n",
    "X_cupy_float_ndarray = X_cupy_ndarray.astype(float)\n",
    "X_cupy_float_ndarray[0]\n",
    "print(X_cupy_float_ndarray)\n",
    "print(type(X_cupy_float_ndarray))"
   ]
  },
  {
   "cell_type": "code",
   "execution_count": 9,
   "metadata": {},
   "outputs": [
    {
     "name": "stdout",
     "output_type": "stream",
     "text": [
      "        Requested Wall Time\n",
      "1                  172800.0\n",
      "2                  259200.0\n",
      "3                  259200.0\n",
      "4                  259200.0\n",
      "5                  259200.0\n",
      "...                     ...\n",
      "983986                600.0\n",
      "983987                600.0\n",
      "983988              86400.0\n",
      "983989              86400.0\n",
      "983990                600.0\n",
      "\n",
      "[983990 rows x 1 columns]\n",
      "<class 'cudf.core.dataframe.DataFrame'>\n"
     ]
    }
   ],
   "source": [
    "y_cudf = cuda_df.iloc[1:, [9]]\n",
    "y_float_cudf = y_cudf.astype(float)\n",
    "print(y_float_cudf)\n",
    "print(type(y_float_cudf))"
   ]
  },
  {
   "cell_type": "markdown",
   "metadata": {},
   "source": [
    "## Preprocessing "
   ]
  },
  {
   "cell_type": "code",
   "execution_count": 10,
   "metadata": {},
   "outputs": [
    {
     "name": "stdout",
     "output_type": "stream",
     "text": [
      "y[target] has NaNs? True\n",
      "Number of NaNs in y[target] >> 6\n"
     ]
    }
   ],
   "source": [
    "print(f\"y[target] has NaNs? {y_float_cudf.isnull().values.any()}\")\n",
    "print(f\"Number of NaNs in y[target] >> {y_float_cudf.isnull().values.sum()}\")"
   ]
  },
  {
   "cell_type": "markdown",
   "metadata": {},
   "source": [
    "### Replace nan's with mean"
   ]
  },
  {
   "cell_type": "code",
   "execution_count": 11,
   "metadata": {},
   "outputs": [],
   "source": [
    "y_float_cudf_no_nan = y_float_cudf.fillna(y_float_cudf.mean())"
   ]
  },
  {
   "cell_type": "code",
   "execution_count": 12,
   "metadata": {},
   "outputs": [
    {
     "name": "stdout",
     "output_type": "stream",
     "text": [
      "y[target] has NaNs? False\n",
      "Number of NaNs in y[target] >> 0\n"
     ]
    }
   ],
   "source": [
    "print(f\"y[target] has NaNs? {y_float_cudf_no_nan.isnull().values.any()}\")\n",
    "print(f\"Number of NaNs in y[target] >> {y_float_cudf_no_nan.isnull().values.sum()}\")"
   ]
  },
  {
   "cell_type": "code",
   "execution_count": 13,
   "metadata": {},
   "outputs": [
    {
     "name": "stdout",
     "output_type": "stream",
     "text": [
      "[[172800.]\n",
      " [259200.]\n",
      " [259200.]\n",
      " ...\n",
      " [ 86400.]\n",
      " [ 86400.]\n",
      " [   600.]]\n",
      "<class 'cupy.core.core.ndarray'>\n"
     ]
    }
   ],
   "source": [
    "y_float_no_nan_cupy_ndarry = cp.array(y_float_cudf_no_nan.to_gpu_matrix())\n",
    "print(y_float_no_nan_cupy_ndarry)\n",
    "print(type(y_float_no_nan_cupy_ndarry))"
   ]
  },
  {
   "cell_type": "markdown",
   "metadata": {
    "colab_type": "text",
    "id": "WemVnqgeA70k"
   },
   "source": [
    "## Splitting the dataset into the Training set and Test set"
   ]
  },
  {
   "cell_type": "code",
   "execution_count": 14,
   "metadata": {},
   "outputs": [
    {
     "name": "stdout",
     "output_type": "stream",
     "text": [
      "[[0.00000000e+00 8.00000000e+00 1.00000000e+00 2.40000000e+01\n",
      "  1.15312000e+05 1.44140000e+04 0.00000000e+00 0.00000000e+00\n",
      "  1.44140000e+04 1.59677454e+09]\n",
      " [0.00000000e+00 4.80000000e+01 2.00000000e+00 4.80000000e+01\n",
      "  2.53440000e+04 1.05600000e+03 0.00000000e+00 1.20000000e+01\n",
      "  5.28000000e+02 1.59729218e+09]\n",
      " [0.00000000e+00 5.44000000e+02 2.00000000e+00 5.44000000e+02\n",
      "  8.70400000e+03 3.20000000e+01 0.00000000e+00 4.10000000e+01\n",
      "  1.60000000e+01 1.59716857e+09]]\n"
     ]
    }
   ],
   "source": [
    "X_train, X_test, y_train, y_test = train_test_split(X_cupy_float_ndarray, y_float_no_nan_cupy_ndarry, train_size = 0.9)\n",
    "print(X_train[0:3])"
   ]
  },
  {
   "cell_type": "code",
   "execution_count": 15,
   "metadata": {},
   "outputs": [
    {
     "name": "stdout",
     "output_type": "stream",
     "text": [
      "[[ 14400.]\n",
      " [360000.]\n",
      " [  3600.]]\n"
     ]
    }
   ],
   "source": [
    "print(y_train[0:3])"
   ]
  },
  {
   "cell_type": "markdown",
   "metadata": {
    "colab_type": "text",
    "id": "k-McZVsQBINc"
   },
   "source": [
    "## Training the Multiple Linear Regression model on the Training set"
   ]
  },
  {
   "cell_type": "code",
   "execution_count": 16,
   "metadata": {
    "colab": {
     "base_uri": "https://localhost:8080/",
     "height": 34
    },
    "colab_type": "code",
    "executionInfo": {
     "elapsed": 757,
     "status": "ok",
     "timestamp": 1586353664008,
     "user": {
      "displayName": "Hadelin de Ponteves",
      "photoUrl": "https://lh3.googleusercontent.com/a-/AOh14GhEuXdT7eQweUmRPW8_laJuPggSK6hfvpl5a6WBaA=s64",
      "userId": "15047218817161520419"
     },
     "user_tz": -240
    },
    "id": "ywPjx0L1BMiD",
    "outputId": "099836bc-4d85-4b4f-a488-093faf02e8cb"
   },
   "outputs": [
    {
     "name": "stdout",
     "output_type": "stream",
     "text": [
      "50.2 ms ± 15.5 ms per loop (mean ± std. dev. of 7 runs, 1 loop each)\n",
      "peak memory: 2903.94 MiB, increment: 1.14 MiB\n"
     ]
    }
   ],
   "source": [
    "linear_regressor = LinearRegression(fit_intercept = True, normalize = False, algorithm = \"eig\")\n",
    "%timeit linear_regressor.fit(X_train, y_train)\n",
    "%memit linear_regressor.fit(X_train, y_train)"
   ]
  },
  {
   "cell_type": "markdown",
   "metadata": {
    "colab_type": "text",
    "id": "xNkXL1YQBiBT"
   },
   "source": [
    "## Predicting the Test set results"
   ]
  },
  {
   "cell_type": "code",
   "execution_count": 17,
   "metadata": {
    "colab": {
     "base_uri": "https://localhost:8080/",
     "height": 185
    },
    "colab_type": "code",
    "executionInfo": {
     "elapsed": 951,
     "status": "ok",
     "timestamp": 1586353666678,
     "user": {
      "displayName": "Hadelin de Ponteves",
      "photoUrl": "https://lh3.googleusercontent.com/a-/AOh14GhEuXdT7eQweUmRPW8_laJuPggSK6hfvpl5a6WBaA=s64",
      "userId": "15047218817161520419"
     },
     "user_tz": -240
    },
    "id": "TQKmwvtdBkyb",
    "outputId": "493436bf-a4ae-4374-ca16-0b0c25d19457"
   },
   "outputs": [
    {
     "name": "stdout",
     "output_type": "stream",
     "text": [
      "[[123116.13   2400.  ]\n",
      " [191892.25 172800.  ]\n",
      " [ 65312.42  14400.  ]\n",
      " ...\n",
      " [ 57670.69 172800.  ]\n",
      " [ 54941.66   7200.  ]\n",
      " [ 71545.7   21600.  ]]\n"
     ]
    }
   ],
   "source": [
    "y_pred = linear_regressor.predict(X_test)\n",
    "np.set_printoptions(precision = 2)\n",
    "print(np.concatenate((y_pred.reshape(len(y_pred), 1), y_test.reshape(len(y_test), 1)), 1))"
   ]
  },
  {
   "cell_type": "code",
   "execution_count": 21,
   "metadata": {},
   "outputs": [
    {
     "name": "stdout",
     "output_type": "stream",
     "text": [
      "y-scores: [123116.13 191892.25  65312.42 ...  57670.69  54941.66  71545.7 ]\n",
      "Number of y-scores: 98399\n",
      "Datatype: <class 'numpy.ndarray'>\n",
      "3rd y-score: 65312.42316958308\n",
      "3rd y-score datatype: <class 'numpy.float64'>\n"
     ]
    }
   ],
   "source": [
    "y_scores_np_array = cp.asnumpy(y_pred)\n",
    "print(f\"y-scores: {y_scores_np_array}\")\n",
    "print(f\"Number of y-scores: {len(y_scores_np_array)}\")\n",
    "print(f\"Datatype: {type(y_scores_np_array)}\")\n",
    "print(f\"3rd y-score: {y_scores_np_array[2]}\")\n",
    "print(f\"3rd y-score datatype: {type(y_scores_np_array[2])}\")"
   ]
  },
  {
   "cell_type": "code",
   "execution_count": 22,
   "metadata": {},
   "outputs": [
    {
     "name": "stdout",
     "output_type": "stream",
     "text": [
      "y-trues:\n",
      " [[  2400.]\n",
      " [172800.]\n",
      " [ 14400.]\n",
      " ...\n",
      " [172800.]\n",
      " [  7200.]\n",
      " [ 21600.]]\n",
      "Number of y-trues: 98399\n",
      "Datatype: <class 'numpy.ndarray'>\n",
      "3rd y-true: [14400.]\n",
      "3rd y-true datatype: <class 'numpy.ndarray'>\n"
     ]
    }
   ],
   "source": [
    "y_true_np_array = cp.asnumpy(y_test)\n",
    "print(f\"y-trues:\\n {y_true_np_array}\")\n",
    "print(f\"Number of y-trues: {len(y_true_np_array)}\")\n",
    "print(f\"Datatype: {type(y_true_np_array)}\")\n",
    "print(f\"3rd y-true: {y_true_np_array[2]}\")\n",
    "print(f\"3rd y-true datatype: {type(y_true_np_array[2])}\")"
   ]
  },
  {
   "cell_type": "code",
   "execution_count": 38,
   "metadata": {},
   "outputs": [
    {
     "name": "stdout",
     "output_type": "stream",
     "text": [
      "R2 Score [cuml.metrics]: 7599787876.979726\n",
      "Mean Absolute Error [sklearn.metrics]: 7599787876.979726\n",
      "Mean Squared Error [sklearn.metrics]: 7599787876.979726\n"
     ]
    }
   ],
   "source": [
    "print(f\"R2 Score [cuml.metrics]: {mean_squared_error(y_true_np_array, y_scores_np_array)}\")\n",
    "print(f\"Mean Absolute Error [sklearn.metrics]: {mean_squared_error(y_true_np_array, y_scores_np_array)}\")\n",
    "print(f\"Mean Squared Error [sklearn.metrics]: {mean_squared_error(y_true_np_array, y_scores_np_array)}\")"
   ]
  }
 ],
 "metadata": {
  "colab": {
   "authorship_tag": "ABX9TyPhYhte6t7H4wEK4xPpDWT7",
   "name": "Multiple Linear Regression",
   "provenance": [],
   "toc_visible": true
  },
  "kernelspec": {
   "display_name": "rapids.ai-cuml",
   "language": "python",
   "name": "rapids.ai-cuml"
  },
  "language_info": {
   "codemirror_mode": {
    "name": "ipython",
    "version": 3
   },
   "file_extension": ".py",
   "mimetype": "text/x-python",
   "name": "python",
   "nbconvert_exporter": "python",
   "pygments_lexer": "ipython3",
   "version": "3.8.5"
  }
 },
 "nbformat": 4,
 "nbformat_minor": 4
}
