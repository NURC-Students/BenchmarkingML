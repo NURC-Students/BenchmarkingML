{
 "cells": [
  {
   "cell_type": "markdown",
   "metadata": {
    "colab_type": "text",
    "id": "CazISR8X_HUG"
   },
   "source": [
    "# Multiple Linear Regression"
   ]
  },
  {
   "cell_type": "markdown",
   "metadata": {
    "colab_type": "text",
    "id": "pOyqYHTk_Q57"
   },
   "source": [
    "## Importing the libraries"
   ]
  },
  {
   "cell_type": "code",
   "execution_count": 1,
   "metadata": {},
   "outputs": [
    {
     "name": "stdout",
     "output_type": "stream",
     "text": [
      "all imports successful!\n"
     ]
    }
   ],
   "source": [
    "import h2o4gpu\n",
    "from h2o4gpu import DAAL_SUPPORTED\n",
    "from h2o4gpu.util.metrics import mse\n",
    "from h2o4gpu.util.metrics import mae\n",
    "from h2o4gpu.model_selection import train_test_split\n",
    "\n",
    "from sklearn.metrics import r2_score\n",
    "from sklearn.metrics import mean_absolute_error\n",
    "from sklearn.metrics import mean_squared_error\n",
    "\n",
    "import matplotlib\n",
    "import matplotlib.pyplot as plt\n",
    "\n",
    "import numpy as np\n",
    "import numpy.ma as ma\n",
    "from numpy import *\n",
    "\n",
    "import pandas as pd\n",
    "\n",
    "import sys\n",
    "\n",
    "%reload_ext memory_profiler\n",
    "\n",
    "print(\"all imports successful!\")"
   ]
  },
  {
   "cell_type": "markdown",
   "metadata": {},
   "source": [
    "### Checking Conda Environment"
   ]
  },
  {
   "cell_type": "code",
   "execution_count": 2,
   "metadata": {},
   "outputs": [
    {
     "name": "stdout",
     "output_type": "stream",
     "text": [
      "/home/chakravarty.s/miniconda3/envs/h2o/bin/python3\n"
     ]
    }
   ],
   "source": [
    "print(sys.executable)"
   ]
  },
  {
   "cell_type": "code",
   "execution_count": 3,
   "metadata": {},
   "outputs": [
    {
     "name": "stdout",
     "output_type": "stream",
     "text": [
      "3.6.11 | packaged by conda-forge | (default, Aug  5 2020, 20:09:42) \n",
      "[GCC 7.5.0]\n"
     ]
    }
   ],
   "source": [
    "print(sys.version)"
   ]
  },
  {
   "cell_type": "markdown",
   "metadata": {},
   "source": [
    "## Testing  h2oai /h2o4gpu "
   ]
  },
  {
   "cell_type": "code",
   "execution_count": 4,
   "metadata": {},
   "outputs": [
    {
     "data": {
      "text/plain": [
       "array([[1. , 0.5],\n",
       "       [1. , 4. ]])"
      ]
     },
     "execution_count": 4,
     "metadata": {},
     "output_type": "execute_result"
    }
   ],
   "source": [
    "X = np.array([[1.,1.], [1.,4.], [1.,0.]])\n",
    "model = h2o4gpu.KMeans(n_clusters=2,random_state=1234).fit(X)\n",
    "model.cluster_centers_"
   ]
  },
  {
   "cell_type": "markdown",
   "metadata": {
    "colab_type": "text",
    "id": "vgC61-ah_WIz"
   },
   "source": [
    "## Importing the dataset"
   ]
  },
  {
   "cell_type": "code",
   "execution_count": 5,
   "metadata": {},
   "outputs": [
    {
     "name": "stdout",
     "output_type": "stream",
     "text": [
      "<class 'pandas.core.frame.DataFrame'>\n",
      "RangeIndex: 983991 entries, 0 to 983990\n",
      "Data columns (total 83 columns):\n",
      " #   Column                                            Non-Null Count   Dtype  \n",
      "---  ------                                            --------------   -----  \n",
      " 0   Local Job Id                                      983991 non-null  int64  \n",
      " 1   System Username (Deidentified)                    983991 non-null  object \n",
      " 2   Shared                                            983991 non-null  int64  \n",
      " 3   Cores                                             983991 non-null  int64  \n",
      " 4   Nodes                                             983991 non-null  int64  \n",
      " 5   Total Cores Available                             983991 non-null  int64  \n",
      " 6   Cpu Time                                          983991 non-null  int64  \n",
      " 7   Node Time                                         983991 non-null  int64  \n",
      " 8   Requested Nodes                                   983991 non-null  int64  \n",
      " 9   Requested Wall Time                               983985 non-null  float64\n",
      " 10  Queue                                             983991 non-null  object \n",
      " 11  Wait Time                                         983991 non-null  int64  \n",
      " 12  Wall Time                                         983991 non-null  int64  \n",
      " 13  Eligible Time (Timestamp)                         243662 non-null  float64\n",
      " 14  End Time (Timestamp)                              983991 non-null  int64  \n",
      " 15  Start Time (Timestamp)                            983991 non-null  int64  \n",
      " 16  Submit Time (Timestamp)                           983991 non-null  int64  \n",
      " 17  Organization                                      983991 non-null  object \n",
      " 18  Resource                                          983991 non-null  object \n",
      " 19  Field of Science                                  983991 non-null  object \n",
      " 20  PI                                                983991 non-null  object \n",
      " 21  User                                              983991 non-null  object \n",
      " 22  User Institution                                  983991 non-null  object \n",
      " 23  Timezone                                          983991 non-null  object \n",
      " 24  Gpu0 Nv Utilization                               2103 non-null    float64\n",
      " 25  Gpu0 Nv Mem Used                                  2103 non-null    float64\n",
      " 26  CPU Idle                                          564568 non-null  float64\n",
      " 27  CPU System                                        565961 non-null  float64\n",
      " 28  CPU User                                          565961 non-null  float64\n",
      " 29  FLOPS                                             0 non-null       float64\n",
      " 30  CPI (ref)                                         166571 non-null  float64\n",
      " 31  CPI (ref) cov                                     166571 non-null  float64\n",
      " 32  CPLD (ref)                                        51987 non-null   float64\n",
      " 33  CPLD (ref) cov                                    51987 non-null   float64\n",
      " 34  CPU User cov                                      565961 non-null  float64\n",
      " 35  FLOPS cov                                         0 non-null       float64\n",
      " 36  Block device \"sda\" data read                      565591 non-null  float64\n",
      " 37  Block device \"sda\" data written                   565591 non-null  float64\n",
      " 38  Mount point \"home\" data read                      0 non-null       float64\n",
      " 39  Mount point \"home\" data written                   148847 non-null  float64\n",
      " 40  Mount point \"scratch\" data read                   0 non-null       float64\n",
      " 41  Mount point \"scratch\" data written                502874 non-null  float64\n",
      " 42  Mount point \"work\" data read                      0 non-null       float64\n",
      " 43  Mount point \"work\" data written                   148847 non-null  float64\n",
      " 44  Block device \"sda\" read operations                565591 non-null  float64\n",
      " 45  Block device \"sda\" write operations               565591 non-null  float64\n",
      " 46  Block device \"sda\" data read cov                  565591 non-null  float64\n",
      " 47  Block device \"sda\" data written cov               565591 non-null  float64\n",
      " 48  Mount point \"home\" data written cov               148847 non-null  float64\n",
      " 49  Mount point \"scratch\" data written cov            509270 non-null  float64\n",
      " 50  Mount point \"work\" data written cov               148847 non-null  float64\n",
      " 51  Memory Transferred                                402360 non-null  float64\n",
      " 52  Total memory used                                 563329 non-null  float64\n",
      " 53  Memory Transferred cov                            402360 non-null  float64\n",
      " 54  Memory Used Cov                                   563329 non-null  float64\n",
      " 55  Peak Memory Usage Ratio                           528639 non-null  float64\n",
      " 56  Total memory used cov                             563329 non-null  float64\n",
      " 57  Ib Rx Bytes                                       6395 non-null    float64\n",
      " 58  Net Eth0 Rx                                       172932 non-null  float64\n",
      " 59  Net Eth0 Tx                                       172932 non-null  float64\n",
      " 60  Net Ib0 Rx                                        417121 non-null  float64\n",
      " 61  Net Ib0 Tx                                        417121 non-null  float64\n",
      " 62  Net Mic0 Rx                                       6395 non-null    float64\n",
      " 63  Net Mic0 Tx                                       6395 non-null    float64\n",
      " 64  Net Mic1 Rx                                       5228 non-null    float64\n",
      " 65  Net Mic1 Tx                                       5228 non-null    float64\n",
      " 66  Parallel filesystem lustre bytes received         155242 non-null  float64\n",
      " 67  Parallel filesystem lustre bytes transmitted      155242 non-null  float64\n",
      " 68  Parallel filesystem lustre messages received      155242 non-null  float64\n",
      " 69  Parallel filesystem lustre messages transmitted   155242 non-null  float64\n",
      " 70  Net Eth0 Rx Packets                               120509 non-null  float64\n",
      " 71  Net Eth0 Tx Packets                               120509 non-null  float64\n",
      " 72  Net Ib0 Rx Packets                                360423 non-null  float64\n",
      " 73  Net Ib0 Tx Packets                                360423 non-null  float64\n",
      " 74  Net Mic0 Rx Packets                               6395 non-null    float64\n",
      " 75  Net Mic0 Tx Packets                               6395 non-null    float64\n",
      " 76  Net Mic1 Rx Packets                               5228 non-null    float64\n",
      " 77  Net Mic1 Tx Packets                               5228 non-null    float64\n",
      " 78  Net Eth0 Rx Cov                                   172932 non-null  float64\n",
      " 79  Net Eth0 Tx Cov                                   172932 non-null  float64\n",
      " 80  Net Ib0 Rx Cov                                    417121 non-null  float64\n",
      " 81  Net Ib0 Tx Cov                                    417121 non-null  float64\n",
      " 82  Parallel filesystem lustre bytes transmitted cov  155242 non-null  float64\n",
      "dtypes: float64(61), int64(13), object(9)\n",
      "memory usage: 623.1+ MB\n"
     ]
    }
   ],
   "source": [
    "pandas_df = pd.read_csv('/home/chakravarty.s/datasets/aug.csv')\n",
    "pandas_df.info()"
   ]
  },
  {
   "cell_type": "code",
   "execution_count": 7,
   "metadata": {},
   "outputs": [
    {
     "data": {
      "text/html": [
       "<div>\n",
       "<style scoped>\n",
       "    .dataframe tbody tr th:only-of-type {\n",
       "        vertical-align: middle;\n",
       "    }\n",
       "\n",
       "    .dataframe tbody tr th {\n",
       "        vertical-align: top;\n",
       "    }\n",
       "\n",
       "    .dataframe thead th {\n",
       "        text-align: right;\n",
       "    }\n",
       "</style>\n",
       "<table border=\"1\" class=\"dataframe\">\n",
       "  <thead>\n",
       "    <tr style=\"text-align: right;\">\n",
       "      <th></th>\n",
       "      <th>Local Job Id</th>\n",
       "      <th>System Username (Deidentified)</th>\n",
       "      <th>Shared</th>\n",
       "      <th>Cores</th>\n",
       "      <th>Nodes</th>\n",
       "      <th>Total Cores Available</th>\n",
       "      <th>Cpu Time</th>\n",
       "      <th>Node Time</th>\n",
       "      <th>Requested Nodes</th>\n",
       "      <th>Requested Wall Time</th>\n",
       "      <th>...</th>\n",
       "      <th>Net Ib0 Tx Packets</th>\n",
       "      <th>Net Mic0 Rx Packets</th>\n",
       "      <th>Net Mic0 Tx Packets</th>\n",
       "      <th>Net Mic1 Rx Packets</th>\n",
       "      <th>Net Mic1 Tx Packets</th>\n",
       "      <th>Net Eth0 Rx Cov</th>\n",
       "      <th>Net Eth0 Tx Cov</th>\n",
       "      <th>Net Ib0 Rx Cov</th>\n",
       "      <th>Net Ib0 Tx Cov</th>\n",
       "      <th>Parallel filesystem lustre bytes transmitted cov</th>\n",
       "    </tr>\n",
       "  </thead>\n",
       "  <tbody>\n",
       "    <tr>\n",
       "      <th>0</th>\n",
       "      <td>585768</td>\n",
       "      <td>5daba4beef28e18c7f008f25124110c91aba5abb</td>\n",
       "      <td>0</td>\n",
       "      <td>640</td>\n",
       "      <td>32</td>\n",
       "      <td>640</td>\n",
       "      <td>61068160</td>\n",
       "      <td>3053408</td>\n",
       "      <td>32</td>\n",
       "      <td>172800.0</td>\n",
       "      <td>...</td>\n",
       "      <td>8.310655e+10</td>\n",
       "      <td>59397.799397</td>\n",
       "      <td>455651.767202</td>\n",
       "      <td>59784.295585</td>\n",
       "      <td>442156.387134</td>\n",
       "      <td>NaN</td>\n",
       "      <td>NaN</td>\n",
       "      <td>0.068950</td>\n",
       "      <td>0.066064</td>\n",
       "      <td>3.549426</td>\n",
       "    </tr>\n",
       "    <tr>\n",
       "      <th>1</th>\n",
       "      <td>585769</td>\n",
       "      <td>5daba4beef28e18c7f008f25124110c91aba5abb</td>\n",
       "      <td>0</td>\n",
       "      <td>640</td>\n",
       "      <td>32</td>\n",
       "      <td>640</td>\n",
       "      <td>58293120</td>\n",
       "      <td>2914656</td>\n",
       "      <td>32</td>\n",
       "      <td>172800.0</td>\n",
       "      <td>...</td>\n",
       "      <td>8.132098e+10</td>\n",
       "      <td>59634.924307</td>\n",
       "      <td>433592.103155</td>\n",
       "      <td>60048.889133</td>\n",
       "      <td>432517.120973</td>\n",
       "      <td>NaN</td>\n",
       "      <td>NaN</td>\n",
       "      <td>0.068929</td>\n",
       "      <td>0.066047</td>\n",
       "      <td>3.550658</td>\n",
       "    </tr>\n",
       "    <tr>\n",
       "      <th>2</th>\n",
       "      <td>585773</td>\n",
       "      <td>5daba4beef28e18c7f008f25124110c91aba5abb</td>\n",
       "      <td>0</td>\n",
       "      <td>640</td>\n",
       "      <td>32</td>\n",
       "      <td>640</td>\n",
       "      <td>54361600</td>\n",
       "      <td>2718080</td>\n",
       "      <td>32</td>\n",
       "      <td>259200.0</td>\n",
       "      <td>...</td>\n",
       "      <td>2.391560e+09</td>\n",
       "      <td>59079.488440</td>\n",
       "      <td>407031.340753</td>\n",
       "      <td>59009.779747</td>\n",
       "      <td>407049.667957</td>\n",
       "      <td>NaN</td>\n",
       "      <td>NaN</td>\n",
       "      <td>0.064332</td>\n",
       "      <td>0.061032</td>\n",
       "      <td>4.442432</td>\n",
       "    </tr>\n",
       "    <tr>\n",
       "      <th>3</th>\n",
       "      <td>585774</td>\n",
       "      <td>5daba4beef28e18c7f008f25124110c91aba5abb</td>\n",
       "      <td>0</td>\n",
       "      <td>640</td>\n",
       "      <td>32</td>\n",
       "      <td>640</td>\n",
       "      <td>46678400</td>\n",
       "      <td>2333920</td>\n",
       "      <td>32</td>\n",
       "      <td>259200.0</td>\n",
       "      <td>...</td>\n",
       "      <td>2.262686e+09</td>\n",
       "      <td>30563.448861</td>\n",
       "      <td>332175.233069</td>\n",
       "      <td>30858.081742</td>\n",
       "      <td>332155.461502</td>\n",
       "      <td>NaN</td>\n",
       "      <td>NaN</td>\n",
       "      <td>0.064349</td>\n",
       "      <td>0.061046</td>\n",
       "      <td>4.446053</td>\n",
       "    </tr>\n",
       "    <tr>\n",
       "      <th>4</th>\n",
       "      <td>585775</td>\n",
       "      <td>5daba4beef28e18c7f008f25124110c91aba5abb</td>\n",
       "      <td>0</td>\n",
       "      <td>640</td>\n",
       "      <td>32</td>\n",
       "      <td>640</td>\n",
       "      <td>37953920</td>\n",
       "      <td>1897696</td>\n",
       "      <td>32</td>\n",
       "      <td>259200.0</td>\n",
       "      <td>...</td>\n",
       "      <td>2.282364e+09</td>\n",
       "      <td>34536.345662</td>\n",
       "      <td>275712.819236</td>\n",
       "      <td>34745.770934</td>\n",
       "      <td>275407.397537</td>\n",
       "      <td>NaN</td>\n",
       "      <td>NaN</td>\n",
       "      <td>0.064339</td>\n",
       "      <td>0.061073</td>\n",
       "      <td>4.457481</td>\n",
       "    </tr>\n",
       "  </tbody>\n",
       "</table>\n",
       "<p>5 rows × 83 columns</p>\n",
       "</div>"
      ],
      "text/plain": [
       "   Local Job Id            System Username (Deidentified)  Shared  Cores  \\\n",
       "0        585768  5daba4beef28e18c7f008f25124110c91aba5abb       0    640   \n",
       "1        585769  5daba4beef28e18c7f008f25124110c91aba5abb       0    640   \n",
       "2        585773  5daba4beef28e18c7f008f25124110c91aba5abb       0    640   \n",
       "3        585774  5daba4beef28e18c7f008f25124110c91aba5abb       0    640   \n",
       "4        585775  5daba4beef28e18c7f008f25124110c91aba5abb       0    640   \n",
       "\n",
       "   Nodes  Total Cores Available  Cpu Time  Node Time  Requested Nodes  \\\n",
       "0     32                    640  61068160    3053408               32   \n",
       "1     32                    640  58293120    2914656               32   \n",
       "2     32                    640  54361600    2718080               32   \n",
       "3     32                    640  46678400    2333920               32   \n",
       "4     32                    640  37953920    1897696               32   \n",
       "\n",
       "   Requested Wall Time  ... Net Ib0 Tx Packets  Net Mic0 Rx Packets  \\\n",
       "0             172800.0  ...       8.310655e+10         59397.799397   \n",
       "1             172800.0  ...       8.132098e+10         59634.924307   \n",
       "2             259200.0  ...       2.391560e+09         59079.488440   \n",
       "3             259200.0  ...       2.262686e+09         30563.448861   \n",
       "4             259200.0  ...       2.282364e+09         34536.345662   \n",
       "\n",
       "   Net Mic0 Tx Packets  Net Mic1 Rx Packets  Net Mic1 Tx Packets  \\\n",
       "0        455651.767202         59784.295585        442156.387134   \n",
       "1        433592.103155         60048.889133        432517.120973   \n",
       "2        407031.340753         59009.779747        407049.667957   \n",
       "3        332175.233069         30858.081742        332155.461502   \n",
       "4        275712.819236         34745.770934        275407.397537   \n",
       "\n",
       "   Net Eth0 Rx Cov  Net Eth0 Tx Cov Net Ib0 Rx Cov Net Ib0 Tx Cov  \\\n",
       "0              NaN              NaN       0.068950       0.066064   \n",
       "1              NaN              NaN       0.068929       0.066047   \n",
       "2              NaN              NaN       0.064332       0.061032   \n",
       "3              NaN              NaN       0.064349       0.061046   \n",
       "4              NaN              NaN       0.064339       0.061073   \n",
       "\n",
       "  Parallel filesystem lustre bytes transmitted cov  \n",
       "0                                         3.549426  \n",
       "1                                         3.550658  \n",
       "2                                         4.442432  \n",
       "3                                         4.446053  \n",
       "4                                         4.457481  \n",
       "\n",
       "[5 rows x 83 columns]"
      ]
     },
     "execution_count": 7,
     "metadata": {},
     "output_type": "execute_result"
    }
   ],
   "source": [
    "pandas_df.head()"
   ]
  },
  {
   "cell_type": "code",
   "execution_count": 8,
   "metadata": {},
   "outputs": [
    {
     "name": "stdout",
     "output_type": "stream",
     "text": [
      "[[0.00000000e+00 6.40000000e+02 3.20000000e+01 6.40000000e+02\n",
      "  5.82931200e+07 2.91465600e+06 3.20000000e+01 3.61330000e+05\n",
      "  9.10830000e+04 1.59624213e+09]\n",
      " [0.00000000e+00 6.40000000e+02 3.20000000e+01 6.40000000e+02\n",
      "  5.43616000e+07 2.71808000e+06 3.20000000e+01 3.66774000e+05\n",
      "  8.49400000e+04 1.59624214e+09]]\n",
      "<class 'numpy.ndarray'>\n"
     ]
    }
   ],
   "source": [
    "X_numpy_float_ndarray = pandas_df.iloc[1:, [2,3,4,5,6,7,8,11,12,14]].values.astype(float)\n",
    "print(X_numpy_float_ndarray[0:2])\n",
    "print(type(X_numpy_float_ndarray))"
   ]
  },
  {
   "cell_type": "code",
   "execution_count": 9,
   "metadata": {},
   "outputs": [
    {
     "name": "stdout",
     "output_type": "stream",
     "text": [
      "        Requested Wall Time\n",
      "1                  172800.0\n",
      "2                  259200.0\n",
      "3                  259200.0\n",
      "4                  259200.0\n",
      "5                  259200.0\n",
      "...                     ...\n",
      "983986                600.0\n",
      "983987                600.0\n",
      "983988              86400.0\n",
      "983989              86400.0\n",
      "983990                600.0\n",
      "\n",
      "[983990 rows x 1 columns]\n",
      "<class 'pandas.core.frame.DataFrame'>\n"
     ]
    }
   ],
   "source": [
    "y_float_df = pandas_df.iloc[1:, [9]].astype(float)\n",
    "print(y_float_df)\n",
    "print(type(y_float_df))"
   ]
  },
  {
   "cell_type": "markdown",
   "metadata": {},
   "source": [
    "## Preprocessing "
   ]
  },
  {
   "cell_type": "code",
   "execution_count": 10,
   "metadata": {},
   "outputs": [
    {
     "name": "stdout",
     "output_type": "stream",
     "text": [
      "y[target] has NaNs? True\n",
      "Number of NaNs in y[target] >> 6\n"
     ]
    }
   ],
   "source": [
    "print(f\"y[target] has NaNs? {y_float_df.isnull().values.any()}\")\n",
    "print(f\"Number of NaNs in y[target] >> {y_float_df.isnull().values.sum()}\")"
   ]
  },
  {
   "cell_type": "markdown",
   "metadata": {},
   "source": [
    "### Replace nan's with mean"
   ]
  },
  {
   "cell_type": "code",
   "execution_count": 11,
   "metadata": {},
   "outputs": [],
   "source": [
    "y_float_df_no_nan = y_float_df.fillna(y_float_df.mean())"
   ]
  },
  {
   "cell_type": "code",
   "execution_count": 12,
   "metadata": {},
   "outputs": [
    {
     "name": "stdout",
     "output_type": "stream",
     "text": [
      "y[target] has NaNs? False\n",
      "Number of NaNs in y[target] >> 0\n"
     ]
    }
   ],
   "source": [
    "print(f\"y[target] has NaNs? {y_float_df_no_nan.isnull().values.any()}\")\n",
    "print(f\"Number of NaNs in y[target] >> {y_float_df_no_nan.isnull().values.sum()}\")"
   ]
  },
  {
   "cell_type": "code",
   "execution_count": 13,
   "metadata": {},
   "outputs": [
    {
     "name": "stdout",
     "output_type": "stream",
     "text": [
      "[[172800.]\n",
      " [259200.]\n",
      " [259200.]\n",
      " ...\n",
      " [ 86400.]\n",
      " [ 86400.]\n",
      " [   600.]]\n",
      "<class 'numpy.ndarray'>\n"
     ]
    }
   ],
   "source": [
    "y_float_no_nan_ndarray = y_float_df_no_nan.to_numpy()\n",
    "print(y_float_no_nan_ndarray)\n",
    "print(type(y_float_no_nan_ndarray))"
   ]
  },
  {
   "cell_type": "markdown",
   "metadata": {
    "colab_type": "text",
    "id": "WemVnqgeA70k"
   },
   "source": [
    "## Splitting the dataset into the Training set and Test set"
   ]
  },
  {
   "cell_type": "code",
   "execution_count": 14,
   "metadata": {},
   "outputs": [
    {
     "name": "stdout",
     "output_type": "stream",
     "text": [
      "[[1.00000000e+00 1.00000000e+00 1.00000000e+00 2.40000000e+01\n",
      "  1.71700000e+03 1.71700000e+03 0.00000000e+00 3.20000000e+01\n",
      "  1.71700000e+03 1.59788132e+09]\n",
      " [1.00000000e+00 4.00000000e+00 1.00000000e+00 2.40000000e+01\n",
      "  6.52000000e+02 1.63000000e+02 0.00000000e+00 1.48000000e+02\n",
      "  1.63000000e+02 1.59624397e+09]\n",
      " [0.00000000e+00 2.80000000e+01 1.00000000e+00 0.00000000e+00\n",
      "  1.40280000e+04 5.01000000e+02 0.00000000e+00 5.33100000e+03\n",
      "  5.01000000e+02 1.59752524e+09]]\n"
     ]
    }
   ],
   "source": [
    "X_train, X_test, y_train, y_test = train_test_split(X_numpy_float_ndarray, y_float_no_nan_ndarray, train_size = 0.9)\n",
    "print(X_train[0:3])"
   ]
  },
  {
   "cell_type": "code",
   "execution_count": 15,
   "metadata": {},
   "outputs": [
    {
     "name": "stdout",
     "output_type": "stream",
     "text": [
      "[[129600.]\n",
      " [ 14400.]\n",
      " [ 21600.]]\n"
     ]
    }
   ],
   "source": [
    "print(y_train[0:3])"
   ]
  },
  {
   "cell_type": "markdown",
   "metadata": {
    "colab_type": "text",
    "id": "k-McZVsQBINc"
   },
   "source": [
    "## Training the Multiple Linear Regression model on the Training set [sklearn]"
   ]
  },
  {
   "cell_type": "code",
   "execution_count": 16,
   "metadata": {},
   "outputs": [
    {
     "name": "stdout",
     "output_type": "stream",
     "text": [
      "Number of CPU Cores Detected: 28\n"
     ]
    }
   ],
   "source": [
    "import multiprocessing\n",
    "\n",
    "cores = multiprocessing.cpu_count()\n",
    "print(f\"Number of CPU Cores Detected: {cores}\")"
   ]
  },
  {
   "cell_type": "code",
   "execution_count": 17,
   "metadata": {},
   "outputs": [
    {
     "name": "stdout",
     "output_type": "stream",
     "text": [
      "267 ms ± 8.41 ms per loop (mean ± std. dev. of 7 runs, 1 loop each)\n",
      "peak memory: 1579.24 MiB, increment: 0.05 MiB\n",
      "\n",
      "\n",
      "304 ms ± 2.05 ms per loop (mean ± std. dev. of 7 runs, 1 loop each)\n",
      "peak memory: 1579.30 MiB, increment: 0.00 MiB\n",
      "\n",
      "\n",
      "263 ms ± 3.63 ms per loop (mean ± std. dev. of 7 runs, 1 loop each)\n",
      "peak memory: 1579.30 MiB, increment: 0.00 MiB\n"
     ]
    }
   ],
   "source": [
    "from sklearn import linear_model\n",
    "\n",
    "regr1 = linear_model.LinearRegression(n_jobs = 1)\n",
    "regrn = linear_model.LinearRegression(n_jobs = cores/2)\n",
    "regrall = linear_model.LinearRegression(n_jobs = -1)\n",
    "\n",
    "%timeit regr1.fit(X_train, y_train)\n",
    "%memit regr1.fit(X_train, y_train)\n",
    "print(\"\\n\")\n",
    "%timeit regrn.fit(X_train, y_train)\n",
    "%memit regrn.fit(X_train, y_train)\n",
    "print(\"\\n\")\n",
    "%timeit regrall.fit(X_train, y_train)\n",
    "%memit regrall.fit(X_train, y_train)"
   ]
  },
  {
   "cell_type": "code",
   "execution_count": null,
   "metadata": {},
   "outputs": [],
   "source": [
    "from h2o4gpu.solvers.linear_regression import LinearRegression\n",
    "\n",
    "model = LinearRegression()\n",
    "%timeit model.fit(X_train, y_train)\n",
    "%memit model.fit(X_train, y_train)"
   ]
  },
  {
   "cell_type": "code",
   "execution_count": 34,
   "metadata": {},
   "outputs": [
    {
     "name": "stdout",
     "output_type": "stream",
     "text": [
      "DAAL not supported by this Intel CPU™\n",
      "\n",
      "Trying 1 CPU...\n",
      "\n",
      "Running sklearn Linear Regression\n",
      "186 ms ± 2.95 ms per loop (mean ± std. dev. of 7 runs, 10 loops each)\n",
      "peak memory: 1994.23 MiB, increment: 135.14 MiB\n",
      "\n",
      " Trying 2 CPUs...\n",
      "\n",
      "Running sklearn Linear Regression\n",
      "187 ms ± 3.1 ms per loop (mean ± std. dev. of 7 runs, 10 loops each)\n",
      "peak memory: 1994.23 MiB, increment: 135.13 MiB\n",
      "\n",
      " Trying 3 CPUs...\n",
      "\n",
      "Running sklearn Linear Regression\n",
      "185 ms ± 733 µs per loop (mean ± std. dev. of 7 runs, 10 loops each)\n",
      "peak memory: 1994.23 MiB, increment: 135.13 MiB\n",
      "\n",
      " Trying 4 CPUs...\n",
      "\n",
      "Running sklearn Linear Regression\n",
      "185 ms ± 1.1 ms per loop (mean ± std. dev. of 7 runs, 10 loops each)\n",
      "peak memory: 1994.23 MiB, increment: 135.13 MiB\n",
      "\n",
      " Trying 8 CPUs...\n",
      "\n",
      "Running sklearn Linear Regression\n",
      "187 ms ± 1.33 ms per loop (mean ± std. dev. of 7 runs, 10 loops each)\n",
      "peak memory: 1994.23 MiB, increment: 135.13 MiB\n",
      "\n",
      " Trying 12 CPUs...\n",
      "\n",
      "Running sklearn Linear Regression\n",
      "192 ms ± 7.01 ms per loop (mean ± std. dev. of 7 runs, 10 loops each)\n",
      "peak memory: 1994.23 MiB, increment: 135.13 MiB\n"
     ]
    }
   ],
   "source": [
    "if DAAL_SUPPORTED:\n",
    "    print(\"DAAL supported by this Intel CPU™\")\n",
    "    lin_solver_daal = h2o4gpu.LinearRegression(fit_intercept = True, verbose = True, backend = 'daal', n_jobs = 1, n_gpus = 1)\n",
    "    %timeit lin_solver_daal.fit(X_train, y_train)\n",
    "    %memit lin_solver_daal.fit(X_train, y_train)\n",
    "else:\n",
    "    print(\"DAAL not supported by this Intel CPU™\")\n",
    "    print(\"\\nTrying 1 CPU...\\n\")\n",
    "    lin_solver_sklearn_1_cpu = h2o4gpu.LinearRegression(fit_intercept = True, verbose = True, backend = 'sklearn', n_jobs = 1)\n",
    "    %timeit lin_solver_sklearn_1_cpu.fit(X_train, y_train)\n",
    "    %memit lin_solver_sklearn_1_cpu.fit(X_train, y_train)\n",
    "    print(\"\\n Trying 2 CPUs...\\n\")\n",
    "    lin_solver_sklearn_2_cpus = h2o4gpu.LinearRegression(fit_intercept = True, verbose = True, backend = 'sklearn', n_jobs = 2)\n",
    "    %timeit lin_solver_sklearn_2_cpus.fit(X_train, y_train)\n",
    "    %memit lin_solver_sklearn_2_cpus.fit(X_train, y_train)\n",
    "    print(\"\\n Trying 3 CPUs...\\n\")\n",
    "    lin_solver_sklearn_3_cpus = h2o4gpu.LinearRegression(fit_intercept = True, verbose = True, backend = 'sklearn', n_jobs = 3)\n",
    "    %timeit lin_solver_sklearn_3_cpus.fit(X_train, y_train)\n",
    "    %memit lin_solver_sklearn_3_cpus.fit(X_train, y_train)\n",
    "    print(\"\\n Trying 4 CPUs...\\n\")\n",
    "    lin_solver_sklearn_4_cpus = h2o4gpu.LinearRegression(fit_intercept = True, verbose = True, backend = 'sklearn', n_jobs = 4)\n",
    "    %timeit lin_solver_sklearn_4_cpus.fit(X_train, y_train)\n",
    "    %memit lin_solver_sklearn_4_cpus.fit(X_train, y_train)\n",
    "    print(\"\\n Trying 8 CPUs...\\n\")\n",
    "    lin_solver_sklearn_8_cpus = h2o4gpu.LinearRegression(fit_intercept = True, verbose = True, backend = 'sklearn', n_jobs = 8)\n",
    "    %timeit lin_solver_sklearn_8_cpus.fit(X_train, y_train)\n",
    "    %memit lin_solver_sklearn_8_cpus.fit(X_train, y_train)\n",
    "    print(\"\\n Trying 12 CPUs...\\n\")\n",
    "    lin_solver_sklearn_12_cpus = h2o4gpu.LinearRegression(fit_intercept = True, verbose = True, backend = 'sklearn', n_jobs = 12)\n",
    "    %timeit lin_solver_sklearn_12_cpus.fit(X_train, y_train)\n",
    "    %memit lin_solver_sklearn_12_cpus.fit(X_train, y_train)"
   ]
  },
  {
   "cell_type": "markdown",
   "metadata": {
    "colab_type": "text",
    "id": "xNkXL1YQBiBT"
   },
   "source": [
    "## Predicting the Test set results"
   ]
  },
  {
   "cell_type": "code",
   "execution_count": 17,
   "metadata": {
    "colab": {
     "base_uri": "https://localhost:8080/",
     "height": 185
    },
    "colab_type": "code",
    "executionInfo": {
     "elapsed": 951,
     "status": "ok",
     "timestamp": 1586353666678,
     "user": {
      "displayName": "Hadelin de Ponteves",
      "photoUrl": "https://lh3.googleusercontent.com/a-/AOh14GhEuXdT7eQweUmRPW8_laJuPggSK6hfvpl5a6WBaA=s64",
      "userId": "15047218817161520419"
     },
     "user_tz": -240
    },
    "id": "TQKmwvtdBkyb",
    "outputId": "493436bf-a4ae-4374-ca16-0b0c25d19457"
   },
   "outputs": [
    {
     "name": "stdout",
     "output_type": "stream",
     "text": [
      "[[123116.13   2400.  ]\n",
      " [191892.25 172800.  ]\n",
      " [ 65312.42  14400.  ]\n",
      " ...\n",
      " [ 57670.69 172800.  ]\n",
      " [ 54941.66   7200.  ]\n",
      " [ 71545.7   21600.  ]]\n"
     ]
    }
   ],
   "source": [
    "y_pred = linear_regressor.predict(X_test)\n",
    "np.set_printoptions(precision = 2)\n",
    "print(np.concatenate((y_pred.reshape(len(y_pred), 1), y_test.reshape(len(y_test), 1)), 1))"
   ]
  },
  {
   "cell_type": "code",
   "execution_count": 21,
   "metadata": {},
   "outputs": [
    {
     "name": "stdout",
     "output_type": "stream",
     "text": [
      "y-scores: [123116.13 191892.25  65312.42 ...  57670.69  54941.66  71545.7 ]\n",
      "Number of y-scores: 98399\n",
      "Datatype: <class 'numpy.ndarray'>\n",
      "3rd y-score: 65312.42316958308\n",
      "3rd y-score datatype: <class 'numpy.float64'>\n"
     ]
    }
   ],
   "source": [
    "y_scores_np_array = cp.asnumpy(y_pred)\n",
    "print(f\"y-scores: {y_scores_np_array}\")\n",
    "print(f\"Number of y-scores: {len(y_scores_np_array)}\")\n",
    "print(f\"Datatype: {type(y_scores_np_array)}\")\n",
    "print(f\"3rd y-score: {y_scores_np_array[2]}\")\n",
    "print(f\"3rd y-score datatype: {type(y_scores_np_array[2])}\")"
   ]
  },
  {
   "cell_type": "code",
   "execution_count": 22,
   "metadata": {},
   "outputs": [
    {
     "name": "stdout",
     "output_type": "stream",
     "text": [
      "y-trues:\n",
      " [[  2400.]\n",
      " [172800.]\n",
      " [ 14400.]\n",
      " ...\n",
      " [172800.]\n",
      " [  7200.]\n",
      " [ 21600.]]\n",
      "Number of y-trues: 98399\n",
      "Datatype: <class 'numpy.ndarray'>\n",
      "3rd y-true: [14400.]\n",
      "3rd y-true datatype: <class 'numpy.ndarray'>\n"
     ]
    }
   ],
   "source": [
    "y_true_np_array = cp.asnumpy(y_test)\n",
    "print(f\"y-trues:\\n {y_true_np_array}\")\n",
    "print(f\"Number of y-trues: {len(y_true_np_array)}\")\n",
    "print(f\"Datatype: {type(y_true_np_array)}\")\n",
    "print(f\"3rd y-true: {y_true_np_array[2]}\")\n",
    "print(f\"3rd y-true datatype: {type(y_true_np_array[2])}\")"
   ]
  },
  {
   "cell_type": "code",
   "execution_count": 38,
   "metadata": {},
   "outputs": [
    {
     "name": "stdout",
     "output_type": "stream",
     "text": [
      "R2 Score [cuml.metrics]: 7599787876.979726\n",
      "Mean Absolute Error [sklearn.metrics]: 7599787876.979726\n",
      "Mean Squared Error [sklearn.metrics]: 7599787876.979726\n"
     ]
    }
   ],
   "source": [
    "print(f\"R2 Score [cuml.metrics]: {mean_squared_error(y_true_np_array, y_scores_np_array)}\")\n",
    "print(f\"Mean Absolute Error [sklearn.metrics]: {mean_squared_error(y_true_np_array, y_scores_np_array)}\")\n",
    "print(f\"Mean Squared Error [sklearn.metrics]: {mean_squared_error(y_true_np_array, y_scores_np_array)}\")"
   ]
  }
 ],
 "metadata": {
  "colab": {
   "authorship_tag": "ABX9TyPhYhte6t7H4wEK4xPpDWT7",
   "name": "Multiple Linear Regression",
   "provenance": [],
   "toc_visible": true
  },
  "kernelspec": {
   "display_name": "h2o",
   "language": "python",
   "name": "h2o"
  },
  "language_info": {
   "codemirror_mode": {
    "name": "ipython",
    "version": 3
   },
   "file_extension": ".py",
   "mimetype": "text/x-python",
   "name": "python",
   "nbconvert_exporter": "python",
   "pygments_lexer": "ipython3",
   "version": "3.6.11"
  }
 },
 "nbformat": 4,
 "nbformat_minor": 4
}
