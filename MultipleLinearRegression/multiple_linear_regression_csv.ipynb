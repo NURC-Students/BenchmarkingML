{
 "cells": [
  {
   "cell_type": "markdown",
   "metadata": {
    "colab_type": "text",
    "id": "CazISR8X_HUG"
   },
   "source": [
    "# Multiple Linear Regression"
   ]
  },
  {
   "cell_type": "markdown",
   "metadata": {
    "colab_type": "text",
    "id": "pOyqYHTk_Q57"
   },
   "source": [
    "## Importing the libraries"
   ]
  },
  {
   "cell_type": "code",
   "execution_count": 1,
   "metadata": {
    "colab": {},
    "colab_type": "code",
    "id": "T_YHJjnD_Tja"
   },
   "outputs": [],
   "source": [
    "import numpy as np\n",
    "import matplotlib.pyplot as plt\n",
    "import pandas as pd\n",
    "from sklearn.model_selection import train_test_split\n",
    "from sklearn.linear_model import LinearRegression\n",
    "import numpy.ma as ma\n",
    "from numpy import *\n",
    "%load_ext memory_profiler"
   ]
  },
  {
   "cell_type": "markdown",
   "metadata": {
    "colab_type": "text",
    "id": "vgC61-ah_WIz"
   },
   "source": [
    "## Importing the dataset"
   ]
  },
  {
   "cell_type": "markdown",
   "metadata": {},
   "source": [
    "### Prevent Kernel dying unexpectedly reading large csv file"
   ]
  },
  {
   "cell_type": "code",
   "execution_count": 10,
   "metadata": {
    "colab": {},
    "colab_type": "code",
    "id": "UrxyEKGn_ez7"
   },
   "outputs": [
    {
     "name": "stdout",
     "output_type": "stream",
     "text": [
      "21.1 s ± 358 ms per loop (mean ± std. dev. of 7 runs, 1 loop each)\n",
      "<class 'pandas.core.frame.DataFrame'>\n",
      "RangeIndex: 983991 entries, 0 to 983990\n",
      "Data columns (total 83 columns):\n",
      " #   Column                                            Non-Null Count   Dtype  \n",
      "---  ------                                            --------------   -----  \n",
      " 0   Local Job Id                                      983991 non-null  int64  \n",
      " 1   System Username (Deidentified)                    983991 non-null  object \n",
      " 2   Shared                                            983991 non-null  int64  \n",
      " 3   Cores                                             983991 non-null  int64  \n",
      " 4   Nodes                                             983991 non-null  int64  \n",
      " 5   Total Cores Available                             983991 non-null  int64  \n",
      " 6   Cpu Time                                          983991 non-null  int64  \n",
      " 7   Node Time                                         983991 non-null  int64  \n",
      " 8   Requested Nodes                                   983991 non-null  int64  \n",
      " 9   Requested Wall Time                               983991 non-null  float64\n",
      " 10  Queue                                             983991 non-null  object \n",
      " 11  Wait Time                                         983991 non-null  int64  \n",
      " 12  Wall Time                                         983991 non-null  int64  \n",
      " 13  Eligible Time (Timestamp)                         243662 non-null  float64\n",
      " 14  End Time (Timestamp)                              983991 non-null  int64  \n",
      " 15  Start Time (Timestamp)                            983991 non-null  int64  \n",
      " 16  Submit Time (Timestamp)                           983991 non-null  int64  \n",
      " 17  Organization                                      983991 non-null  object \n",
      " 18  Resource                                          983991 non-null  object \n",
      " 19  Field of Science                                  983991 non-null  object \n",
      " 20  PI                                                983991 non-null  object \n",
      " 21  User                                              983991 non-null  object \n",
      " 22  User Institution                                  983991 non-null  object \n",
      " 23  Timezone                                          983991 non-null  object \n",
      " 24  Gpu0 Nv Utilization                               2103 non-null    float64\n",
      " 25  Gpu0 Nv Mem Used                                  2103 non-null    float64\n",
      " 26  CPU Idle                                          564568 non-null  float64\n",
      " 27  CPU System                                        565961 non-null  float64\n",
      " 28  CPU User                                          565961 non-null  float64\n",
      " 29  FLOPS                                             0 non-null       float64\n",
      " 30  CPI (ref)                                         166571 non-null  float64\n",
      " 31  CPI (ref) cov                                     166571 non-null  float64\n",
      " 32  CPLD (ref)                                        51987 non-null   float64\n",
      " 33  CPLD (ref) cov                                    51987 non-null   float64\n",
      " 34  CPU User cov                                      565961 non-null  float64\n",
      " 35  FLOPS cov                                         0 non-null       float64\n",
      " 36  Block device \"sda\" data read                      565591 non-null  float64\n",
      " 37  Block device \"sda\" data written                   565591 non-null  float64\n",
      " 38  Mount point \"home\" data read                      0 non-null       float64\n",
      " 39  Mount point \"home\" data written                   148847 non-null  float64\n",
      " 40  Mount point \"scratch\" data read                   0 non-null       float64\n",
      " 41  Mount point \"scratch\" data written                502874 non-null  float64\n",
      " 42  Mount point \"work\" data read                      0 non-null       float64\n",
      " 43  Mount point \"work\" data written                   148847 non-null  float64\n",
      " 44  Block device \"sda\" read operations                565591 non-null  float64\n",
      " 45  Block device \"sda\" write operations               565591 non-null  float64\n",
      " 46  Block device \"sda\" data read cov                  565591 non-null  float64\n",
      " 47  Block device \"sda\" data written cov               565591 non-null  float64\n",
      " 48  Mount point \"home\" data written cov               148847 non-null  float64\n",
      " 49  Mount point \"scratch\" data written cov            509270 non-null  float64\n",
      " 50  Mount point \"work\" data written cov               148847 non-null  float64\n",
      " 51  Memory Transferred                                402360 non-null  float64\n",
      " 52  Total memory used                                 563329 non-null  float64\n",
      " 53  Memory Transferred cov                            402360 non-null  float64\n",
      " 54  Memory Used Cov                                   563329 non-null  float64\n",
      " 55  Peak Memory Usage Ratio                           528639 non-null  float64\n",
      " 56  Total memory used cov                             563329 non-null  float64\n",
      " 57  Ib Rx Bytes                                       6395 non-null    float64\n",
      " 58  Net Eth0 Rx                                       172932 non-null  float64\n",
      " 59  Net Eth0 Tx                                       172932 non-null  float64\n",
      " 60  Net Ib0 Rx                                        417121 non-null  float64\n",
      " 61  Net Ib0 Tx                                        417121 non-null  float64\n",
      " 62  Net Mic0 Rx                                       6395 non-null    float64\n",
      " 63  Net Mic0 Tx                                       6395 non-null    float64\n",
      " 64  Net Mic1 Rx                                       5228 non-null    float64\n",
      " 65  Net Mic1 Tx                                       5228 non-null    float64\n",
      " 66  Parallel filesystem lustre bytes received         155242 non-null  float64\n",
      " 67  Parallel filesystem lustre bytes transmitted      155242 non-null  float64\n",
      " 68  Parallel filesystem lustre messages received      155242 non-null  float64\n",
      " 69  Parallel filesystem lustre messages transmitted   155242 non-null  float64\n",
      " 70  Net Eth0 Rx Packets                               120509 non-null  float64\n",
      " 71  Net Eth0 Tx Packets                               120509 non-null  float64\n",
      " 72  Net Ib0 Rx Packets                                360423 non-null  float64\n",
      " 73  Net Ib0 Tx Packets                                360423 non-null  float64\n",
      " 74  Net Mic0 Rx Packets                               6395 non-null    float64\n",
      " 75  Net Mic0 Tx Packets                               6395 non-null    float64\n",
      " 76  Net Mic1 Rx Packets                               5228 non-null    float64\n",
      " 77  Net Mic1 Tx Packets                               5228 non-null    float64\n",
      " 78  Net Eth0 Rx Cov                                   172932 non-null  float64\n",
      " 79  Net Eth0 Tx Cov                                   172932 non-null  float64\n",
      " 80  Net Ib0 Rx Cov                                    417121 non-null  float64\n",
      " 81  Net Ib0 Tx Cov                                    417121 non-null  float64\n",
      " 82  Parallel filesystem lustre bytes transmitted cov  155242 non-null  float64\n",
      "dtypes: float64(61), int64(13), object(9)\n",
      "memory usage: 623.1+ MB\n"
     ]
    }
   ],
   "source": [
    "%timeit dataset = pd.read_csv('aug.csv', engine = 'python', low_memory = True)\n",
    "dataset.info()"
   ]
  },
  {
   "cell_type": "code",
   "execution_count": 11,
   "metadata": {},
   "outputs": [
    {
     "data": {
      "text/plain": [
       "array([         0,        640,         32,        640,   61068160,\n",
       "          3053408,         32,     356995,      95419, 1596242127])"
      ]
     },
     "execution_count": 11,
     "metadata": {},
     "output_type": "execute_result"
    }
   ],
   "source": [
    "X = dataset.iloc[:, [2,3,4,5,6,7,8,11,12,14]].values\n",
    "X[0]"
   ]
  },
  {
   "cell_type": "code",
   "execution_count": 12,
   "metadata": {},
   "outputs": [
    {
     "data": {
      "text/plain": [
       "array([172800., 172800., 259200., ...,  86400.,  86400.,    600.])"
      ]
     },
     "execution_count": 12,
     "metadata": {},
     "output_type": "execute_result"
    }
   ],
   "source": [
    "y = dataset.iloc[:, 9].values\n",
    "y"
   ]
  },
  {
   "cell_type": "code",
   "execution_count": 13,
   "metadata": {},
   "outputs": [
    {
     "data": {
      "text/plain": [
       "88876.77131193274"
      ]
     },
     "execution_count": 13,
     "metadata": {},
     "output_type": "execute_result"
    }
   ],
   "source": [
    "col_mean = np.nanmean(y, axis=0)\n",
    "col_mean"
   ]
  },
  {
   "cell_type": "code",
   "execution_count": 14,
   "metadata": {},
   "outputs": [],
   "source": [
    "where_are_NaNs = isnan(y)\n",
    "y[where_are_NaNs] = 0"
   ]
  },
  {
   "cell_type": "code",
   "execution_count": 15,
   "metadata": {},
   "outputs": [
    {
     "name": "stdout",
     "output_type": "stream",
     "text": [
      "False\n"
     ]
    }
   ],
   "source": [
    "array_sum = np.sum(y)\n",
    "array_has_nan = np.isnan(array_sum)\n",
    "print(array_has_nan)"
   ]
  },
  {
   "cell_type": "markdown",
   "metadata": {
    "colab_type": "text",
    "id": "WemVnqgeA70k"
   },
   "source": [
    "## Splitting the dataset into the Training set and Test set"
   ]
  },
  {
   "cell_type": "code",
   "execution_count": 16,
   "metadata": {
    "colab": {},
    "colab_type": "code",
    "id": "Kb_v_ae-A-20"
   },
   "outputs": [],
   "source": [
    "X_train, X_test, y_train, y_test = train_test_split(X, y, test_size = 0.2, random_state = 0)"
   ]
  },
  {
   "cell_type": "markdown",
   "metadata": {
    "colab_type": "text",
    "id": "k-McZVsQBINc"
   },
   "source": [
    "## Training the Multiple Linear Regression model on the Training set"
   ]
  },
  {
   "cell_type": "code",
   "execution_count": 17,
   "metadata": {
    "colab": {
     "base_uri": "https://localhost:8080/",
     "height": 34
    },
    "colab_type": "code",
    "executionInfo": {
     "elapsed": 757,
     "status": "ok",
     "timestamp": 1586353664008,
     "user": {
      "displayName": "Hadelin de Ponteves",
      "photoUrl": "https://lh3.googleusercontent.com/a-/AOh14GhEuXdT7eQweUmRPW8_laJuPggSK6hfvpl5a6WBaA=s64",
      "userId": "15047218817161520419"
     },
     "user_tz": -240
    },
    "id": "ywPjx0L1BMiD",
    "outputId": "099836bc-4d85-4b4f-a488-093faf02e8cb"
   },
   "outputs": [
    {
     "name": "stdout",
     "output_type": "stream",
     "text": [
      "162 ms ± 2.04 ms per loop (mean ± std. dev. of 7 runs, 10 loops each)\n",
      "peak memory: 2693.04 MiB, increment: 6.02 MiB\n"
     ]
    }
   ],
   "source": [
    "regressor = LinearRegression()\n",
    "%timeit regressor.fit(X_train, y_train)\n",
    "%memit regressor.fit(X_train, y_train)"
   ]
  },
  {
   "cell_type": "markdown",
   "metadata": {
    "colab_type": "text",
    "id": "xNkXL1YQBiBT"
   },
   "source": [
    "## Predicting the Test set results"
   ]
  },
  {
   "cell_type": "code",
   "execution_count": 18,
   "metadata": {
    "colab": {
     "base_uri": "https://localhost:8080/",
     "height": 185
    },
    "colab_type": "code",
    "executionInfo": {
     "elapsed": 951,
     "status": "ok",
     "timestamp": 1586353666678,
     "user": {
      "displayName": "Hadelin de Ponteves",
      "photoUrl": "https://lh3.googleusercontent.com/a-/AOh14GhEuXdT7eQweUmRPW8_laJuPggSK6hfvpl5a6WBaA=s64",
      "userId": "15047218817161520419"
     },
     "user_tz": -240
    },
    "id": "TQKmwvtdBkyb",
    "outputId": "493436bf-a4ae-4374-ca16-0b0c25d19457"
   },
   "outputs": [
    {
     "name": "stdout",
     "output_type": "stream",
     "text": [
      "[[141904.29 169200.  ]\n",
      " [ 66153.01  86400.  ]\n",
      " [ 40603.75   2400.  ]\n",
      " ...\n",
      " [308679.92  86400.  ]\n",
      " [ 61221.78   3600.  ]\n",
      " [ 54569.09   7200.  ]]\n"
     ]
    }
   ],
   "source": [
    "y_pred = regressor.predict(X_test)\n",
    "np.set_printoptions(precision=2)\n",
    "print(np.concatenate((y_pred.reshape(len(y_pred),1), y_test.reshape(len(y_test),1)),1))"
   ]
  }
 ],
 "metadata": {
  "colab": {
   "authorship_tag": "ABX9TyPhYhte6t7H4wEK4xPpDWT7",
   "name": "Multiple Linear Regression",
   "provenance": [],
   "toc_visible": true
  },
  "kernelspec": {
   "display_name": "Python 3",
   "language": "python",
   "name": "python3"
  },
  "language_info": {
   "codemirror_mode": {
    "name": "ipython",
    "version": 3
   },
   "file_extension": ".py",
   "mimetype": "text/x-python",
   "name": "python",
   "nbconvert_exporter": "python",
   "pygments_lexer": "ipython3",
   "version": "3.6.9"
  }
 },
 "nbformat": 4,
 "nbformat_minor": 1
}
