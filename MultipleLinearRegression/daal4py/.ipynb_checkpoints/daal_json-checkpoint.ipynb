{
 "cells": [
  {
   "cell_type": "markdown",
   "metadata": {
    "colab_type": "text",
    "id": "CazISR8X_HUG"
   },
   "source": [
    "# Multiple Linear Regression"
   ]
  },
  {
   "cell_type": "markdown",
   "metadata": {
    "colab_type": "text",
    "id": "pOyqYHTk_Q57"
   },
   "source": [
    "## Importing the libraries"
   ]
  },
  {
   "cell_type": "code",
   "execution_count": 1,
   "metadata": {
    "colab": {},
    "colab_type": "code",
    "id": "T_YHJjnD_Tja"
   },
   "outputs": [],
   "source": [
    "import numpy as np\n",
    "import matplotlib.pyplot as plt\n",
    "import pandas as pd\n",
    "from sklearn.model_selection import train_test_split\n",
    "from sklearn.linear_model import LinearRegression\n",
    "import numpy.ma as ma\n",
    "from numpy import *\n",
    "from daal4py import daalinit, daalfini, kmeans_init\n",
    "%load_ext memory_profiler"
   ]
  },
  {
   "cell_type": "markdown",
   "metadata": {},
   "source": [
    "## Testing PyDaal "
   ]
  },
  {
   "cell_type": "code",
   "execution_count": 2,
   "metadata": {},
   "outputs": [
    {
     "name": "stdout",
     "output_type": "stream",
     "text": [
      "[[1. 0.]\n",
      " [1. 4.]\n",
      " [1. 1.]\n",
      " [1. 0.]\n",
      " [1. 0.]\n",
      " [1. 0.]\n",
      " [1. 0.]\n",
      " [1. 0.]\n",
      " [1. 0.]\n",
      " [1. 0.]]\n"
     ]
    }
   ],
   "source": [
    "X = np.array([[1.,1.], [1.,4.], [1.,0.]])\n",
    "daalinit()\n",
    "result = kmeans_init(10, method = \"plusPlusDense\", distributed = True).compute(X)\n",
    "daalfini()\n",
    "print(result.centroids)"
   ]
  },
  {
   "cell_type": "markdown",
   "metadata": {
    "colab_type": "text",
    "id": "vgC61-ah_WIz"
   },
   "source": [
    "## Importing the dataset"
   ]
  },
  {
   "cell_type": "code",
   "execution_count": 3,
   "metadata": {},
   "outputs": [],
   "source": [
    "dataset = pd.read_json('/home/s.chakravarty/dataset/jun_jul.json')"
   ]
  },
  {
   "cell_type": "code",
   "execution_count": 5,
   "metadata": {},
   "outputs": [
    {
     "data": {
      "text/html": [
       "<div>\n",
       "<style scoped>\n",
       "    .dataframe tbody tr th:only-of-type {\n",
       "        vertical-align: middle;\n",
       "    }\n",
       "\n",
       "    .dataframe tbody tr th {\n",
       "        vertical-align: top;\n",
       "    }\n",
       "\n",
       "    .dataframe thead th {\n",
       "        text-align: right;\n",
       "    }\n",
       "</style>\n",
       "<table border=\"1\" class=\"dataframe\">\n",
       "  <thead>\n",
       "    <tr style=\"text-align: right;\">\n",
       "      <th></th>\n",
       "      <th>0</th>\n",
       "      <th>1</th>\n",
       "      <th>2</th>\n",
       "      <th>3</th>\n",
       "      <th>4</th>\n",
       "      <th>5</th>\n",
       "      <th>6</th>\n",
       "      <th>7</th>\n",
       "      <th>8</th>\n",
       "      <th>9</th>\n",
       "      <th>...</th>\n",
       "      <th>73</th>\n",
       "      <th>74</th>\n",
       "      <th>75</th>\n",
       "      <th>76</th>\n",
       "      <th>77</th>\n",
       "      <th>78</th>\n",
       "      <th>79</th>\n",
       "      <th>80</th>\n",
       "      <th>81</th>\n",
       "      <th>82</th>\n",
       "    </tr>\n",
       "  </thead>\n",
       "  <tbody>\n",
       "    <tr>\n",
       "      <th>0</th>\n",
       "      <td>Local Job Id</td>\n",
       "      <td>System Username (Deidentified)</td>\n",
       "      <td>Shared</td>\n",
       "      <td>Cores</td>\n",
       "      <td>Nodes</td>\n",
       "      <td>Total Cores Available</td>\n",
       "      <td>Cpu Time</td>\n",
       "      <td>Node Time</td>\n",
       "      <td>Requested Nodes</td>\n",
       "      <td>Requested Wall Time</td>\n",
       "      <td>...</td>\n",
       "      <td>Net Ib0 Tx Packets</td>\n",
       "      <td>Net Mic0 Rx Packets</td>\n",
       "      <td>Net Mic0 Tx Packets</td>\n",
       "      <td>Net Mic1 Rx Packets</td>\n",
       "      <td>Net Mic1 Tx Packets</td>\n",
       "      <td>Net Eth0 Rx Cov</td>\n",
       "      <td>Net Eth0 Tx Cov</td>\n",
       "      <td>Net Ib0 Rx Cov</td>\n",
       "      <td>Net Ib0 Tx Cov</td>\n",
       "      <td>Parallel filesystem lustre bytes transmitted cov</td>\n",
       "    </tr>\n",
       "    <tr>\n",
       "      <th>1</th>\n",
       "      <td>563972</td>\n",
       "      <td>de39bdff0287b1df2046dd547f548b6ca49fce7e</td>\n",
       "      <td>0</td>\n",
       "      <td>8</td>\n",
       "      <td>1</td>\n",
       "      <td>8</td>\n",
       "      <td>2037440</td>\n",
       "      <td>254680</td>\n",
       "      <td>1</td>\n",
       "      <td>259200</td>\n",
       "      <td>...</td>\n",
       "      <td>906405393.4619594</td>\n",
       "      <td>2167.0031521339597</td>\n",
       "      <td>1040471.5134752289</td>\n",
       "      <td>None</td>\n",
       "      <td>None</td>\n",
       "      <td>None</td>\n",
       "      <td>None</td>\n",
       "      <td>0</td>\n",
       "      <td>0</td>\n",
       "      <td>0</td>\n",
       "    </tr>\n",
       "    <tr>\n",
       "      <th>2</th>\n",
       "      <td>563973</td>\n",
       "      <td>de39bdff0287b1df2046dd547f548b6ca49fce7e</td>\n",
       "      <td>0</td>\n",
       "      <td>8</td>\n",
       "      <td>1</td>\n",
       "      <td>8</td>\n",
       "      <td>2037440</td>\n",
       "      <td>254680</td>\n",
       "      <td>1</td>\n",
       "      <td>259200</td>\n",
       "      <td>...</td>\n",
       "      <td>906407273.1810366</td>\n",
       "      <td>2187.994318070176</td>\n",
       "      <td>1040498.2979645049</td>\n",
       "      <td>None</td>\n",
       "      <td>None</td>\n",
       "      <td>None</td>\n",
       "      <td>None</td>\n",
       "      <td>0</td>\n",
       "      <td>0</td>\n",
       "      <td>0</td>\n",
       "    </tr>\n",
       "    <tr>\n",
       "      <th>3</th>\n",
       "      <td>563986</td>\n",
       "      <td>de39bdff0287b1df2046dd547f548b6ca49fce7e</td>\n",
       "      <td>0</td>\n",
       "      <td>8</td>\n",
       "      <td>1</td>\n",
       "      <td>8</td>\n",
       "      <td>1998016</td>\n",
       "      <td>249752</td>\n",
       "      <td>1</td>\n",
       "      <td>259200</td>\n",
       "      <td>...</td>\n",
       "      <td>153256382.47338018</td>\n",
       "      <td>4341.010295438663</td>\n",
       "      <td>1015351.408077252</td>\n",
       "      <td>None</td>\n",
       "      <td>None</td>\n",
       "      <td>None</td>\n",
       "      <td>None</td>\n",
       "      <td>0</td>\n",
       "      <td>0</td>\n",
       "      <td>0</td>\n",
       "    </tr>\n",
       "    <tr>\n",
       "      <th>4</th>\n",
       "      <td>563988</td>\n",
       "      <td>de39bdff0287b1df2046dd547f548b6ca49fce7e</td>\n",
       "      <td>0</td>\n",
       "      <td>8</td>\n",
       "      <td>1</td>\n",
       "      <td>8</td>\n",
       "      <td>1997696</td>\n",
       "      <td>249712</td>\n",
       "      <td>1</td>\n",
       "      <td>259200</td>\n",
       "      <td>...</td>\n",
       "      <td>26235245.528879013</td>\n",
       "      <td>1981.0000399351834</td>\n",
       "      <td>1012809.0204173211</td>\n",
       "      <td>None</td>\n",
       "      <td>None</td>\n",
       "      <td>None</td>\n",
       "      <td>None</td>\n",
       "      <td>0</td>\n",
       "      <td>0</td>\n",
       "      <td>0</td>\n",
       "    </tr>\n",
       "    <tr>\n",
       "      <th>5</th>\n",
       "      <td>564043</td>\n",
       "      <td>d2ee7fd8efea767364c09cc1b758ee4a30e9db29</td>\n",
       "      <td>0</td>\n",
       "      <td>20</td>\n",
       "      <td>1</td>\n",
       "      <td>20</td>\n",
       "      <td>5184620</td>\n",
       "      <td>259231</td>\n",
       "      <td>1</td>\n",
       "      <td>259200</td>\n",
       "      <td>...</td>\n",
       "      <td>5739978.871336916</td>\n",
       "      <td>76541.91827502515</td>\n",
       "      <td>1105871.8192437731</td>\n",
       "      <td>76587.91822591031</td>\n",
       "      <td>1105916.8191957262</td>\n",
       "      <td>None</td>\n",
       "      <td>None</td>\n",
       "      <td>0</td>\n",
       "      <td>0</td>\n",
       "      <td>0</td>\n",
       "    </tr>\n",
       "  </tbody>\n",
       "</table>\n",
       "<p>6 rows × 83 columns</p>\n",
       "</div>"
      ],
      "text/plain": [
       "             0                                         1       2      3   \\\n",
       "0  Local Job Id            System Username (Deidentified)  Shared  Cores   \n",
       "1        563972  de39bdff0287b1df2046dd547f548b6ca49fce7e       0      8   \n",
       "2        563973  de39bdff0287b1df2046dd547f548b6ca49fce7e       0      8   \n",
       "3        563986  de39bdff0287b1df2046dd547f548b6ca49fce7e       0      8   \n",
       "4        563988  de39bdff0287b1df2046dd547f548b6ca49fce7e       0      8   \n",
       "5        564043  d2ee7fd8efea767364c09cc1b758ee4a30e9db29       0     20   \n",
       "\n",
       "      4                      5         6          7                8   \\\n",
       "0  Nodes  Total Cores Available  Cpu Time  Node Time  Requested Nodes   \n",
       "1      1                      8   2037440     254680                1   \n",
       "2      1                      8   2037440     254680                1   \n",
       "3      1                      8   1998016     249752                1   \n",
       "4      1                      8   1997696     249712                1   \n",
       "5      1                     20   5184620     259231                1   \n",
       "\n",
       "                    9   ...                  73                   74  \\\n",
       "0  Requested Wall Time  ...  Net Ib0 Tx Packets  Net Mic0 Rx Packets   \n",
       "1               259200  ...   906405393.4619594   2167.0031521339597   \n",
       "2               259200  ...   906407273.1810366    2187.994318070176   \n",
       "3               259200  ...  153256382.47338018    4341.010295438663   \n",
       "4               259200  ...  26235245.528879013   1981.0000399351834   \n",
       "5               259200  ...   5739978.871336916    76541.91827502515   \n",
       "\n",
       "                    75                   76                   77  \\\n",
       "0  Net Mic0 Tx Packets  Net Mic1 Rx Packets  Net Mic1 Tx Packets   \n",
       "1   1040471.5134752289                 None                 None   \n",
       "2   1040498.2979645049                 None                 None   \n",
       "3    1015351.408077252                 None                 None   \n",
       "4   1012809.0204173211                 None                 None   \n",
       "5   1105871.8192437731    76587.91822591031   1105916.8191957262   \n",
       "\n",
       "                78               79              80              81  \\\n",
       "0  Net Eth0 Rx Cov  Net Eth0 Tx Cov  Net Ib0 Rx Cov  Net Ib0 Tx Cov   \n",
       "1             None             None               0               0   \n",
       "2             None             None               0               0   \n",
       "3             None             None               0               0   \n",
       "4             None             None               0               0   \n",
       "5             None             None               0               0   \n",
       "\n",
       "                                                 82  \n",
       "0  Parallel filesystem lustre bytes transmitted cov  \n",
       "1                                                 0  \n",
       "2                                                 0  \n",
       "3                                                 0  \n",
       "4                                                 0  \n",
       "5                                                 0  \n",
       "\n",
       "[6 rows x 83 columns]"
      ]
     },
     "execution_count": 5,
     "metadata": {},
     "output_type": "execute_result"
    }
   ],
   "source": [
    "dataset[0:6]"
   ]
  },
  {
   "cell_type": "code",
   "execution_count": 6,
   "metadata": {},
   "outputs": [
    {
     "data": {
      "text/plain": [
       "array([0.00000000e+00, 8.00000000e+00, 1.00000000e+00, 8.00000000e+00,\n",
       "       2.03744000e+06, 2.54680000e+05, 1.00000000e+00, 2.20000000e+01,\n",
       "       2.54680000e+05, 1.59102992e+09])"
      ]
     },
     "execution_count": 6,
     "metadata": {},
     "output_type": "execute_result"
    }
   ],
   "source": [
    "X = dataset.iloc[1:, [2,3,4,5,6,7,8,11,12,14]].values\n",
    "X_float = X.astype(np.float)\n",
    "X_float[0]"
   ]
  },
  {
   "cell_type": "code",
   "execution_count": 7,
   "metadata": {},
   "outputs": [
    {
     "data": {
      "text/plain": [
       "259200.0"
      ]
     },
     "execution_count": 7,
     "metadata": {},
     "output_type": "execute_result"
    }
   ],
   "source": [
    "y = dataset.iloc[1:, 9].values\n",
    "y_float = y.astype(np.float)\n",
    "y_float[0]"
   ]
  },
  {
   "cell_type": "markdown",
   "metadata": {},
   "source": [
    "## Preprocessing "
   ]
  },
  {
   "cell_type": "markdown",
   "metadata": {},
   "source": [
    "### Obtain mean of columns as you need, nanmean is convenient."
   ]
  },
  {
   "cell_type": "code",
   "execution_count": 8,
   "metadata": {},
   "outputs": [
    {
     "data": {
      "text/plain": [
       "65344.54648279556"
      ]
     },
     "execution_count": 8,
     "metadata": {},
     "output_type": "execute_result"
    }
   ],
   "source": [
    "col_mean = np.nanmean(y_float, axis=0)\n",
    "col_mean"
   ]
  },
  {
   "cell_type": "code",
   "execution_count": 9,
   "metadata": {},
   "outputs": [],
   "source": [
    "where_are_NaNs = isnan(y_float)\n",
    "y_float[where_are_NaNs] = 0"
   ]
  },
  {
   "cell_type": "code",
   "execution_count": 10,
   "metadata": {},
   "outputs": [
    {
     "name": "stdout",
     "output_type": "stream",
     "text": [
      "False\n"
     ]
    }
   ],
   "source": [
    "array_sum = np.sum(y_float)\n",
    "array_has_nan = np.isnan(array_sum)\n",
    "print(array_has_nan)"
   ]
  },
  {
   "cell_type": "markdown",
   "metadata": {
    "colab_type": "text",
    "id": "WemVnqgeA70k"
   },
   "source": [
    "## Splitting the dataset into the Training set and Test set"
   ]
  },
  {
   "cell_type": "code",
   "execution_count": 11,
   "metadata": {
    "colab": {},
    "colab_type": "code",
    "id": "Kb_v_ae-A-20"
   },
   "outputs": [],
   "source": [
    "X_train, X_test, y_train, y_test = train_test_split(X_float, y_float, test_size = 0.2, random_state = 0)"
   ]
  },
  {
   "cell_type": "markdown",
   "metadata": {
    "colab_type": "text",
    "id": "k-McZVsQBINc"
   },
   "source": [
    "## Training the Multiple Linear Regression model on the Training set"
   ]
  },
  {
   "cell_type": "code",
   "execution_count": 12,
   "metadata": {
    "colab": {
     "base_uri": "https://localhost:8080/",
     "height": 34
    },
    "colab_type": "code",
    "executionInfo": {
     "elapsed": 757,
     "status": "ok",
     "timestamp": 1586353664008,
     "user": {
      "displayName": "Hadelin de Ponteves",
      "photoUrl": "https://lh3.googleusercontent.com/a-/AOh14GhEuXdT7eQweUmRPW8_laJuPggSK6hfvpl5a6WBaA=s64",
      "userId": "15047218817161520419"
     },
     "user_tz": -240
    },
    "id": "ywPjx0L1BMiD",
    "outputId": "099836bc-4d85-4b4f-a488-093faf02e8cb"
   },
   "outputs": [
    {
     "name": "stdout",
     "output_type": "stream",
     "text": [
      "556 ms ± 1.89 ms per loop (mean ± std. dev. of 7 runs, 1 loop each)\n",
      "peak memory: 9253.96 MiB, increment: 0.07 MiB\n"
     ]
    }
   ],
   "source": [
    "regressor = LinearRegression()\n",
    "%timeit regressor.fit(X_train, y_train)\n",
    "%memit regressor.fit(X_train, y_train)"
   ]
  },
  {
   "cell_type": "markdown",
   "metadata": {
    "colab_type": "text",
    "id": "xNkXL1YQBiBT"
   },
   "source": [
    "## Predicting the Test set results"
   ]
  },
  {
   "cell_type": "code",
   "execution_count": 13,
   "metadata": {
    "colab": {
     "base_uri": "https://localhost:8080/",
     "height": 185
    },
    "colab_type": "code",
    "executionInfo": {
     "elapsed": 951,
     "status": "ok",
     "timestamp": 1586353666678,
     "user": {
      "displayName": "Hadelin de Ponteves",
      "photoUrl": "https://lh3.googleusercontent.com/a-/AOh14GhEuXdT7eQweUmRPW8_laJuPggSK6hfvpl5a6WBaA=s64",
      "userId": "15047218817161520419"
     },
     "user_tz": -240
    },
    "id": "TQKmwvtdBkyb",
    "outputId": "493436bf-a4ae-4374-ca16-0b0c25d19457"
   },
   "outputs": [
    {
     "name": "stdout",
     "output_type": "stream",
     "text": [
      "[[ 57702.81  21600.  ]\n",
      " [ 39707.08   7200.  ]\n",
      " [251800.45 172800.  ]\n",
      " ...\n",
      " [ 44870.55  86400.  ]\n",
      " [ 82462.76 172800.  ]\n",
      " [ 93261.41 172800.  ]]\n"
     ]
    }
   ],
   "source": [
    "y_pred = regressor.predict(X_test)\n",
    "np.set_printoptions(precision=2)\n",
    "print(np.concatenate((y_pred.reshape(len(y_pred),1), y_test.reshape(len(y_test),1)),1))"
   ]
  }
 ],
 "metadata": {
  "colab": {
   "authorship_tag": "ABX9TyPhYhte6t7H4wEK4xPpDWT7",
   "name": "Multiple Linear Regression",
   "provenance": [],
   "toc_visible": true
  },
  "kernelspec": {
   "display_name": "daal_4_py_env",
   "language": "python",
   "name": "daal_4_py_env"
  },
  "language_info": {
   "codemirror_mode": {
    "name": "ipython",
    "version": 3
   },
   "file_extension": ".py",
   "mimetype": "text/x-python",
   "name": "python",
   "nbconvert_exporter": "python",
   "pygments_lexer": "ipython3",
   "version": "3.7.7"
  }
 },
 "nbformat": 4,
 "nbformat_minor": 4
}
